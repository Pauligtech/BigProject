{
 "cells": [
  {
   "cell_type": "markdown",
   "metadata": {},
   "source": [
    "This run has higher dropout, larger size lstm.\n",
    "\n",
    "This run has validation accuracy around 70%+\n",
    "\n",
    "From results shown, high dropout does contribute to regularization. Compared to the first run, validation accuracy doesn't improve, however the training history is less oscillatory."
   ]
  },
  {
   "cell_type": "code",
   "execution_count": 1,
   "metadata": {},
   "outputs": [
    {
     "name": "stderr",
     "output_type": "stream",
     "text": [
      "/mnt/g/Course/2017-2018_4th_year/2018_winter/ECE_239AS/Project/.env4/lib/python3.6/site-packages/h5py/__init__.py:36: FutureWarning: Conversion of the second argument of issubdtype from `float` to `np.floating` is deprecated. In future, it will be treated as `np.float64 == np.dtype(float).type`.\n",
      "  from ._conv import register_converters as _register_converters\n",
      "Using TensorFlow backend.\n"
     ]
    }
   ],
   "source": [
    "from keras.models import Sequential\n",
    "from keras.layers import LSTM, Dense, Dropout, BatchNormalization\n",
    "from keras.layers import Conv1D, MaxPooling1D, Activation, Flatten\n",
    "from keras.utils import to_categorical\n",
    "import numpy as np\n",
    "import h5py\n",
    "import matplotlib.pyplot as plt\n",
    "from data_utils import get_data\n",
    "from sklearn import preprocessing\n"
   ]
  },
  {
   "cell_type": "code",
   "execution_count": 2,
   "metadata": {
    "scrolled": true
   },
   "outputs": [
    {
     "name": "stdout",
     "output_type": "stream",
     "text": [
      "X_train: (2458, 1000, 22) \n",
      "y_train: (2458,) \n",
      "X_val: (100, 1000, 22) \n",
      "y_val: (100,) \n",
      "X_test: (0, 1000, 22) \n",
      "y_test: (0,) \n"
     ]
    }
   ],
   "source": [
    "# Load data from all .mat files, combine them, eliminate EOG signals, shuffle and \n",
    "# seperate training data, validation data and testing data.\n",
    "# Also do mean subtraction on x.\n",
    "\n",
    "data = get_data('../project_datasets',num_validation=100, num_test=0, subtract_mean=True, subtract_axis=1,\n",
    "                transpose=True)\n",
    "for k in data.keys():\n",
    "    print('{}: {} '.format(k, data[k].shape))"
   ]
  },
  {
   "cell_type": "code",
   "execution_count": 3,
   "metadata": {},
   "outputs": [],
   "source": [
    "num_classes = 4\n",
    "\n",
    "# substract data from list\n",
    "X_train = data.get('X_train')\n",
    "y_train = data.get('y_train')\n",
    "X_val = data.get('X_val')\n",
    "y_val = data.get('y_val')\n",
    "\n",
    "# get data dimension\n",
    "N_train, T_train, C_train = data.get('X_train').shape\n",
    "N_val, T_val, C_val = data.get('X_val').shape\n",
    "\n",
    "# add dummy zeros for y classification, convert class vectors to binary class matrices.\n",
    "y_train = to_categorical(y_train, num_classes)\n",
    "y_val = to_categorical(y_val, num_classes)"
   ]
  },
  {
   "cell_type": "code",
   "execution_count": 4,
   "metadata": {},
   "outputs": [
    {
     "name": "stdout",
     "output_type": "stream",
     "text": [
      "X_train:  (2458, 1000, 22)\n",
      "y_train:  (2458, 4)\n",
      "X_val:  (100, 1000, 22)\n",
      "y_val:  (100, 4)\n"
     ]
    }
   ],
   "source": [
    "# construct X_total and y_total based on sub-sampling of X_train and y_train\n",
    "\n",
    "# take sub-sampling on the time sequence to reduce dimension for RNN\n",
    "sampling = 1\n",
    "\n",
    "X_train = X_train.reshape(N_train,int(T_train/sampling), sampling, C_train)[:,:,0,:]\n",
    "X_val = X_val.reshape(N_val,int(T_val/sampling), sampling, C_val)[:,:,0,:]\n",
    "    \n",
    "# get new data dimension\n",
    "N_train, T_train, C_train = X_train.shape\n",
    "N_val, T_val, C_val = X_val.shape\n",
    "\n",
    "print('X_train: ', X_train.shape)\n",
    "print('y_train: ', y_train.shape)\n",
    "print('X_val: ', X_val.shape)\n",
    "print('y_val: ', y_val.shape)"
   ]
  },
  {
   "cell_type": "code",
   "execution_count": 5,
   "metadata": {},
   "outputs": [
    {
     "name": "stdout",
     "output_type": "stream",
     "text": [
      "WARNING:tensorflow:From /mnt/g/Course/2017-2018_4th_year/2018_winter/ECE_239AS/Project/.env4/lib/python3.6/site-packages/tensorflow/python/util/deprecation.py:497: calling conv1d (from tensorflow.python.ops.nn_ops) with data_format=NHWC is deprecated and will be removed in a future version.\n",
      "Instructions for updating:\n",
      "`NHWC` for data_format is deprecated, use `NWC` instead\n"
     ]
    }
   ],
   "source": [
    "# Expected input batch shape: (batch_size, timesteps, data_dim)\n",
    "# Note that we have to provide the full batch_input_shape since the network is stateful.\n",
    "# the sample of index i in batch k is the follow-up for the sample i in batch k-1.\n",
    "\n",
    "# perhaps should try masking layer\n",
    "\n",
    "data_dim = C_train\n",
    "timesteps = T_train\n",
    "batch_size = 100\n",
    "num_epoch = 100\n",
    "\n",
    "# make a sequential model\n",
    "model = Sequential()\n",
    "\n",
    "# add 1-layer cnn\n",
    "model.add(Conv1D(40, kernel_size=12, strides=4,\n",
    "          input_shape=(timesteps, data_dim)))\n",
    "model.add(Activation('relu'))\n",
    "model.add(Dropout(0.5))\n",
    "model.add(BatchNormalization())\n",
    "model.add(MaxPooling1D(pool_size=4, strides=4))\n",
    "\n",
    "\n",
    "# add 2-layer lstm\n",
    "model.add(LSTM(30, return_sequences=True, stateful=False))\n",
    "model.add(Dropout(0.5))\n",
    "model.add(BatchNormalization())\n",
    "model.add(LSTM(20, return_sequences=True, stateful=False))\n",
    "model.add(Dropout(0.5))\n",
    "model.add(BatchNormalization())\n",
    "model.add(Flatten())\n",
    "model.add(Dense(num_classes, activation='softmax'))\n",
    "\n",
    "# set loss function and optimizer\n",
    "model.compile(loss='categorical_crossentropy',\n",
    "              optimizer='adam',\n",
    "              metrics=['accuracy'])"
   ]
  },
  {
   "cell_type": "code",
   "execution_count": 6,
   "metadata": {},
   "outputs": [
    {
     "name": "stdout",
     "output_type": "stream",
     "text": [
      "Train on 2458 samples, validate on 100 samples\n",
      "Epoch 1/100\n",
      "2458/2458 [==============================] - 6s 3ms/step - loss: 1.8625 - acc: 0.2632 - val_loss: 1.3533 - val_acc: 0.3500\n",
      "Epoch 2/100\n",
      "2458/2458 [==============================] - 5s 2ms/step - loss: 1.6128 - acc: 0.3409 - val_loss: 1.2523 - val_acc: 0.4700\n",
      "Epoch 3/100\n",
      "2458/2458 [==============================] - 5s 2ms/step - loss: 1.5151 - acc: 0.3474 - val_loss: 1.1668 - val_acc: 0.4800\n",
      "Epoch 4/100\n",
      "2458/2458 [==============================] - 5s 2ms/step - loss: 1.4300 - acc: 0.3869 - val_loss: 1.0934 - val_acc: 0.5200\n",
      "Epoch 5/100\n",
      "2458/2458 [==============================] - 5s 2ms/step - loss: 1.4202 - acc: 0.3869 - val_loss: 1.0222 - val_acc: 0.5500\n",
      "Epoch 6/100\n",
      "2458/2458 [==============================] - 5s 2ms/step - loss: 1.3060 - acc: 0.4276 - val_loss: 1.0314 - val_acc: 0.6000\n",
      "Epoch 7/100\n",
      "2458/2458 [==============================] - 5s 2ms/step - loss: 1.2692 - acc: 0.4589 - val_loss: 1.0238 - val_acc: 0.5700\n",
      "Epoch 8/100\n",
      "2458/2458 [==============================] - 5s 2ms/step - loss: 1.2324 - acc: 0.4870 - val_loss: 1.0663 - val_acc: 0.5200\n",
      "Epoch 9/100\n",
      "2458/2458 [==============================] - 5s 2ms/step - loss: 1.1956 - acc: 0.4931 - val_loss: 1.0079 - val_acc: 0.6200\n",
      "Epoch 10/100\n",
      "2458/2458 [==============================] - 5s 2ms/step - loss: 1.1490 - acc: 0.5138 - val_loss: 1.0277 - val_acc: 0.5800\n",
      "Epoch 11/100\n",
      "2458/2458 [==============================] - 5s 2ms/step - loss: 1.1157 - acc: 0.5293 - val_loss: 1.1803 - val_acc: 0.5100\n",
      "Epoch 12/100\n",
      "2458/2458 [==============================] - 5s 2ms/step - loss: 1.1165 - acc: 0.5293 - val_loss: 1.2087 - val_acc: 0.4500\n",
      "Epoch 13/100\n",
      "2458/2458 [==============================] - 5s 2ms/step - loss: 1.0864 - acc: 0.5452 - val_loss: 1.0801 - val_acc: 0.5600\n",
      "Epoch 14/100\n",
      "2458/2458 [==============================] - 5s 2ms/step - loss: 1.0695 - acc: 0.5411 - val_loss: 1.0511 - val_acc: 0.5800\n",
      "Epoch 15/100\n",
      "2458/2458 [==============================] - 5s 2ms/step - loss: 1.0584 - acc: 0.5639 - val_loss: 1.0297 - val_acc: 0.5300\n",
      "Epoch 16/100\n",
      "2458/2458 [==============================] - 5s 2ms/step - loss: 1.0372 - acc: 0.5728 - val_loss: 0.9986 - val_acc: 0.5500\n",
      "Epoch 17/100\n",
      "2458/2458 [==============================] - 5s 2ms/step - loss: 0.9950 - acc: 0.5952 - val_loss: 1.1597 - val_acc: 0.5700\n",
      "Epoch 18/100\n",
      "2458/2458 [==============================] - 5s 2ms/step - loss: 0.9942 - acc: 0.5838 - val_loss: 0.9370 - val_acc: 0.6200\n",
      "Epoch 19/100\n",
      "2458/2458 [==============================] - 5s 2ms/step - loss: 0.9743 - acc: 0.6033 - val_loss: 0.8981 - val_acc: 0.6300\n",
      "Epoch 20/100\n",
      "2458/2458 [==============================] - 5s 2ms/step - loss: 0.9527 - acc: 0.6143 - val_loss: 0.9467 - val_acc: 0.5700\n",
      "Epoch 21/100\n",
      "2458/2458 [==============================] - 5s 2ms/step - loss: 0.9315 - acc: 0.6208 - val_loss: 0.9437 - val_acc: 0.5900\n",
      "Epoch 22/100\n",
      "2458/2458 [==============================] - 5s 2ms/step - loss: 0.9077 - acc: 0.6277 - val_loss: 0.9651 - val_acc: 0.5900\n",
      "Epoch 23/100\n",
      "2458/2458 [==============================] - 5s 2ms/step - loss: 0.8935 - acc: 0.6452 - val_loss: 0.9407 - val_acc: 0.6000\n",
      "Epoch 24/100\n",
      "2458/2458 [==============================] - 5s 2ms/step - loss: 0.8726 - acc: 0.6473 - val_loss: 0.8461 - val_acc: 0.6300\n",
      "Epoch 25/100\n",
      "2458/2458 [==============================] - 5s 2ms/step - loss: 0.8346 - acc: 0.6672 - val_loss: 0.8975 - val_acc: 0.6300\n",
      "Epoch 26/100\n",
      "2458/2458 [==============================] - 5s 2ms/step - loss: 0.8677 - acc: 0.6505 - val_loss: 1.0650 - val_acc: 0.5600\n",
      "Epoch 27/100\n",
      "2458/2458 [==============================] - 5s 2ms/step - loss: 0.8510 - acc: 0.6603 - val_loss: 0.9269 - val_acc: 0.5900\n",
      "Epoch 28/100\n",
      "2458/2458 [==============================] - 5s 2ms/step - loss: 0.8200 - acc: 0.6835 - val_loss: 0.8383 - val_acc: 0.6800\n",
      "Epoch 29/100\n",
      "2458/2458 [==============================] - 5s 2ms/step - loss: 0.8240 - acc: 0.6766 - val_loss: 0.8168 - val_acc: 0.6700\n",
      "Epoch 30/100\n",
      "2458/2458 [==============================] - 5s 2ms/step - loss: 0.7976 - acc: 0.6957 - val_loss: 0.9105 - val_acc: 0.6100\n",
      "Epoch 31/100\n",
      "2458/2458 [==============================] - 5s 2ms/step - loss: 0.7896 - acc: 0.6928 - val_loss: 0.9472 - val_acc: 0.6200\n",
      "Epoch 32/100\n",
      "2458/2458 [==============================] - 5s 2ms/step - loss: 0.7937 - acc: 0.6904 - val_loss: 0.8846 - val_acc: 0.6400\n",
      "Epoch 33/100\n",
      "2458/2458 [==============================] - 5s 2ms/step - loss: 0.7693 - acc: 0.6912 - val_loss: 0.9880 - val_acc: 0.6200\n",
      "Epoch 34/100\n",
      "2458/2458 [==============================] - 5s 2ms/step - loss: 0.7810 - acc: 0.6851 - val_loss: 0.9620 - val_acc: 0.6000\n",
      "Epoch 35/100\n",
      "2458/2458 [==============================] - 5s 2ms/step - loss: 0.7499 - acc: 0.6985 - val_loss: 0.7941 - val_acc: 0.6900\n",
      "Epoch 36/100\n",
      "2458/2458 [==============================] - 5s 2ms/step - loss: 0.7611 - acc: 0.6916 - val_loss: 0.7719 - val_acc: 0.7100\n",
      "Epoch 37/100\n",
      "2458/2458 [==============================] - 5s 2ms/step - loss: 0.7232 - acc: 0.7164 - val_loss: 0.8321 - val_acc: 0.6300\n",
      "Epoch 38/100\n",
      "2458/2458 [==============================] - 5s 2ms/step - loss: 0.7226 - acc: 0.7201 - val_loss: 0.8235 - val_acc: 0.6800\n",
      "Epoch 39/100\n",
      "2458/2458 [==============================] - 5s 2ms/step - loss: 0.7300 - acc: 0.7120 - val_loss: 0.8701 - val_acc: 0.6600\n",
      "Epoch 40/100\n",
      "2458/2458 [==============================] - 5s 2ms/step - loss: 0.7250 - acc: 0.7217 - val_loss: 0.8574 - val_acc: 0.6400\n",
      "Epoch 41/100\n",
      "2458/2458 [==============================] - 5s 2ms/step - loss: 0.7044 - acc: 0.7156 - val_loss: 0.7886 - val_acc: 0.7000\n",
      "Epoch 42/100\n",
      "2458/2458 [==============================] - 5s 2ms/step - loss: 0.6872 - acc: 0.7315 - val_loss: 0.8462 - val_acc: 0.6600\n",
      "Epoch 43/100\n",
      "2458/2458 [==============================] - 5s 2ms/step - loss: 0.7009 - acc: 0.7311 - val_loss: 0.8417 - val_acc: 0.6600\n",
      "Epoch 44/100\n",
      "2458/2458 [==============================] - 5s 2ms/step - loss: 0.6499 - acc: 0.7445 - val_loss: 0.8427 - val_acc: 0.6700\n",
      "Epoch 45/100\n",
      "2458/2458 [==============================] - 5s 2ms/step - loss: 0.6571 - acc: 0.7465 - val_loss: 0.7682 - val_acc: 0.7000\n",
      "Epoch 46/100\n",
      "2458/2458 [==============================] - 5s 2ms/step - loss: 0.6619 - acc: 0.7445 - val_loss: 0.8429 - val_acc: 0.6400\n",
      "Epoch 47/100\n",
      "2458/2458 [==============================] - 5s 2ms/step - loss: 0.6646 - acc: 0.7413 - val_loss: 0.8024 - val_acc: 0.7100\n",
      "Epoch 48/100\n",
      "2458/2458 [==============================] - 5s 2ms/step - loss: 0.6640 - acc: 0.7433 - val_loss: 0.8536 - val_acc: 0.6800\n",
      "Epoch 49/100\n",
      "2458/2458 [==============================] - 5s 2ms/step - loss: 0.6516 - acc: 0.7408 - val_loss: 0.7876 - val_acc: 0.7200\n",
      "Epoch 50/100\n",
      "2458/2458 [==============================] - 5s 2ms/step - loss: 0.6514 - acc: 0.7526 - val_loss: 0.8465 - val_acc: 0.6600\n",
      "Epoch 51/100\n",
      "2458/2458 [==============================] - 5s 2ms/step - loss: 0.6128 - acc: 0.7726 - val_loss: 0.7784 - val_acc: 0.7400\n",
      "Epoch 52/100\n",
      "2458/2458 [==============================] - 5s 2ms/step - loss: 0.6432 - acc: 0.7445 - val_loss: 0.8212 - val_acc: 0.6900\n",
      "Epoch 53/100\n",
      "2458/2458 [==============================] - 5s 2ms/step - loss: 0.6438 - acc: 0.7433 - val_loss: 0.8605 - val_acc: 0.6900\n",
      "Epoch 54/100\n",
      "2458/2458 [==============================] - 5s 2ms/step - loss: 0.5962 - acc: 0.7714 - val_loss: 0.7577 - val_acc: 0.7500\n",
      "Epoch 55/100\n",
      "2458/2458 [==============================] - 5s 2ms/step - loss: 0.6216 - acc: 0.7563 - val_loss: 0.8975 - val_acc: 0.6600\n",
      "Epoch 56/100\n",
      "2458/2458 [==============================] - 5s 2ms/step - loss: 0.5995 - acc: 0.7726 - val_loss: 0.9079 - val_acc: 0.6800\n",
      "Epoch 57/100\n",
      "2458/2458 [==============================] - 5s 2ms/step - loss: 0.5966 - acc: 0.7624 - val_loss: 0.9137 - val_acc: 0.6500\n",
      "Epoch 58/100\n",
      "2458/2458 [==============================] - 5s 2ms/step - loss: 0.5832 - acc: 0.7848 - val_loss: 0.8480 - val_acc: 0.6800\n",
      "Epoch 59/100\n",
      "2458/2458 [==============================] - 5s 2ms/step - loss: 0.5680 - acc: 0.7758 - val_loss: 0.7918 - val_acc: 0.7100\n",
      "Epoch 60/100\n",
      "2458/2458 [==============================] - 5s 2ms/step - loss: 0.5793 - acc: 0.7771 - val_loss: 0.7798 - val_acc: 0.7200\n"
     ]
    },
    {
     "name": "stdout",
     "output_type": "stream",
     "text": [
      "Epoch 61/100\n",
      "2458/2458 [==============================] - 5s 2ms/step - loss: 0.5637 - acc: 0.7868 - val_loss: 0.8196 - val_acc: 0.6700\n",
      "Epoch 62/100\n",
      "2458/2458 [==============================] - 5s 2ms/step - loss: 0.5734 - acc: 0.7783 - val_loss: 0.7908 - val_acc: 0.6700\n",
      "Epoch 63/100\n",
      "2458/2458 [==============================] - 5s 2ms/step - loss: 0.5558 - acc: 0.7864 - val_loss: 0.8468 - val_acc: 0.6900\n",
      "Epoch 64/100\n",
      "2458/2458 [==============================] - 5s 2ms/step - loss: 0.5834 - acc: 0.7742 - val_loss: 0.7824 - val_acc: 0.7200\n",
      "Epoch 65/100\n",
      "2458/2458 [==============================] - 5s 2ms/step - loss: 0.5157 - acc: 0.8063 - val_loss: 0.8893 - val_acc: 0.7000\n",
      "Epoch 66/100\n",
      "2458/2458 [==============================] - 5s 2ms/step - loss: 0.5329 - acc: 0.7925 - val_loss: 0.9551 - val_acc: 0.7100\n",
      "Epoch 67/100\n",
      "2458/2458 [==============================] - 5s 2ms/step - loss: 0.5031 - acc: 0.8096 - val_loss: 0.7916 - val_acc: 0.7300\n",
      "Epoch 68/100\n",
      "2458/2458 [==============================] - 5s 2ms/step - loss: 0.5297 - acc: 0.7962 - val_loss: 0.8920 - val_acc: 0.6800\n",
      "Epoch 69/100\n",
      "2458/2458 [==============================] - 5s 2ms/step - loss: 0.5323 - acc: 0.7937 - val_loss: 0.7855 - val_acc: 0.7200\n",
      "Epoch 70/100\n",
      "2458/2458 [==============================] - 5s 2ms/step - loss: 0.5349 - acc: 0.7921 - val_loss: 0.8209 - val_acc: 0.7100\n",
      "Epoch 71/100\n",
      "2458/2458 [==============================] - 5s 2ms/step - loss: 0.5129 - acc: 0.8011 - val_loss: 0.8702 - val_acc: 0.7100\n",
      "Epoch 72/100\n",
      "2458/2458 [==============================] - 5s 2ms/step - loss: 0.5142 - acc: 0.8027 - val_loss: 0.9392 - val_acc: 0.6900\n",
      "Epoch 73/100\n",
      "2458/2458 [==============================] - 5s 2ms/step - loss: 0.5161 - acc: 0.8007 - val_loss: 0.8779 - val_acc: 0.7200\n",
      "Epoch 74/100\n",
      "2458/2458 [==============================] - 5s 2ms/step - loss: 0.4892 - acc: 0.8161 - val_loss: 0.8464 - val_acc: 0.7100\n",
      "Epoch 75/100\n",
      "2458/2458 [==============================] - 5s 2ms/step - loss: 0.4823 - acc: 0.8112 - val_loss: 0.9076 - val_acc: 0.7000\n",
      "Epoch 76/100\n",
      "2458/2458 [==============================] - 5s 2ms/step - loss: 0.4869 - acc: 0.8137 - val_loss: 0.8576 - val_acc: 0.7000\n",
      "Epoch 77/100\n",
      "2458/2458 [==============================] - 5s 2ms/step - loss: 0.4779 - acc: 0.8133 - val_loss: 1.0830 - val_acc: 0.6400\n",
      "Epoch 78/100\n",
      "2458/2458 [==============================] - 5s 2ms/step - loss: 0.4809 - acc: 0.8153 - val_loss: 0.9011 - val_acc: 0.6700\n",
      "Epoch 79/100\n",
      "2458/2458 [==============================] - 5s 2ms/step - loss: 0.4910 - acc: 0.8177 - val_loss: 0.9755 - val_acc: 0.6700\n",
      "Epoch 80/100\n",
      "2458/2458 [==============================] - 5s 2ms/step - loss: 0.4667 - acc: 0.8124 - val_loss: 0.9707 - val_acc: 0.6800\n",
      "Epoch 81/100\n",
      "2458/2458 [==============================] - 5s 2ms/step - loss: 0.4632 - acc: 0.8255 - val_loss: 0.9624 - val_acc: 0.6900\n",
      "Epoch 82/100\n",
      "2458/2458 [==============================] - 5s 2ms/step - loss: 0.4916 - acc: 0.8149 - val_loss: 0.9696 - val_acc: 0.6400\n",
      "Epoch 83/100\n",
      "2458/2458 [==============================] - 5s 2ms/step - loss: 0.4793 - acc: 0.8198 - val_loss: 0.8354 - val_acc: 0.6900\n",
      "Epoch 84/100\n",
      "2458/2458 [==============================] - 5s 2ms/step - loss: 0.4732 - acc: 0.8198 - val_loss: 0.9461 - val_acc: 0.7100\n",
      "Epoch 85/100\n",
      "2458/2458 [==============================] - 5s 2ms/step - loss: 0.4585 - acc: 0.8255 - val_loss: 0.9880 - val_acc: 0.6800\n",
      "Epoch 86/100\n",
      "2458/2458 [==============================] - 5s 2ms/step - loss: 0.4521 - acc: 0.8275 - val_loss: 1.0004 - val_acc: 0.6800\n",
      "Epoch 87/100\n",
      "2458/2458 [==============================] - 5s 2ms/step - loss: 0.4817 - acc: 0.8137 - val_loss: 1.1010 - val_acc: 0.6400\n",
      "Epoch 88/100\n",
      "2458/2458 [==============================] - 5s 2ms/step - loss: 0.4605 - acc: 0.8226 - val_loss: 0.9644 - val_acc: 0.6800\n",
      "Epoch 89/100\n",
      "2458/2458 [==============================] - 5s 2ms/step - loss: 0.4462 - acc: 0.8242 - val_loss: 0.8668 - val_acc: 0.7000\n",
      "Epoch 90/100\n",
      "2458/2458 [==============================] - 5s 2ms/step - loss: 0.4272 - acc: 0.8389 - val_loss: 0.9170 - val_acc: 0.6300\n",
      "Epoch 91/100\n",
      "2458/2458 [==============================] - 5s 2ms/step - loss: 0.4379 - acc: 0.8303 - val_loss: 0.9214 - val_acc: 0.6700\n",
      "Epoch 92/100\n",
      "2458/2458 [==============================] - 5s 2ms/step - loss: 0.4464 - acc: 0.8267 - val_loss: 1.0089 - val_acc: 0.7100\n",
      "Epoch 93/100\n",
      "2458/2458 [==============================] - 5s 2ms/step - loss: 0.4408 - acc: 0.8352 - val_loss: 0.9348 - val_acc: 0.6900\n",
      "Epoch 94/100\n",
      "2458/2458 [==============================] - 5s 2ms/step - loss: 0.4349 - acc: 0.8283 - val_loss: 0.9536 - val_acc: 0.7000\n",
      "Epoch 95/100\n",
      "2458/2458 [==============================] - 5s 2ms/step - loss: 0.4168 - acc: 0.8365 - val_loss: 0.9765 - val_acc: 0.7100\n",
      "Epoch 96/100\n",
      "2458/2458 [==============================] - 5s 2ms/step - loss: 0.4228 - acc: 0.8344 - val_loss: 0.9902 - val_acc: 0.6500\n",
      "Epoch 97/100\n",
      "2458/2458 [==============================] - 5s 2ms/step - loss: 0.4405 - acc: 0.8324 - val_loss: 0.9556 - val_acc: 0.7000\n",
      "Epoch 98/100\n",
      "2458/2458 [==============================] - 5s 2ms/step - loss: 0.3948 - acc: 0.8519 - val_loss: 1.0339 - val_acc: 0.7000\n",
      "Epoch 99/100\n",
      "2458/2458 [==============================] - 5s 2ms/step - loss: 0.4063 - acc: 0.8466 - val_loss: 0.9794 - val_acc: 0.7000\n",
      "Epoch 100/100\n",
      "2458/2458 [==============================] - 5s 2ms/step - loss: 0.3981 - acc: 0.8470 - val_loss: 0.9313 - val_acc: 0.6900\n"
     ]
    }
   ],
   "source": [
    "# train the data with validation\n",
    "history = model.fit(X_train, y_train,\n",
    "                    batch_size=batch_size, \n",
    "                    epochs=num_epoch, \n",
    "                    shuffle=False,\n",
    "                    validation_data=(X_val, y_val))"
   ]
  },
  {
   "cell_type": "code",
   "execution_count": 7,
   "metadata": {},
   "outputs": [
    {
     "name": "stdout",
     "output_type": "stream",
     "text": [
      "dict_keys(['val_loss', 'val_acc', 'loss', 'acc'])\n"
     ]
    },
    {
     "data": {
      "image/png": "[encoded data removed]",
      "text/plain": [
       "<matplotlib.figure.Figure at 0x7ff558272dd8>"
      ]
     },
     "metadata": {},
     "output_type": "display_data"
    },
    {
     "data": {
      "image/png": "[encoded data removed]",
      "text/plain": [
       "<matplotlib.figure.Figure at 0x7ff558293d68>"
      ]
     },
     "metadata": {},
     "output_type": "display_data"
    }
   ],
   "source": [
    "# list all data in history\n",
    "print(history.history.keys())\n",
    "\n",
    "# summarize history for accuracy\n",
    "plt.plot(history.history['acc'])\n",
    "plt.plot(history.history['val_acc'])\n",
    "plt.title('model accuracy')\n",
    "plt.ylabel('accuracy')\n",
    "plt.xlabel('epoch')\n",
    "plt.legend(['train', 'val'], loc='upper left')\n",
    "plt.show()\n",
    "\n",
    "# summarize history for loss\n",
    "plt.plot(history.history['loss'],'o')\n",
    "plt.plot(history.history['val_loss'],'o')\n",
    "plt.title('model loss')\n",
    "plt.ylabel('loss')\n",
    "plt.xlabel('epoch')\n",
    "plt.legend(['train', 'val'], loc='upper left')\n",
    "plt.show()"
   ]
  },
  {
   "cell_type": "code",
   "execution_count": null,
   "metadata": {},
   "outputs": [],
   "source": []
  }
 ],
 "metadata": {
  "kernelspec": {
   "display_name": "Python 3",
   "language": "python",
   "name": "python3"
  },
  "language_info": {
   "codemirror_mode": {
    "name": "ipython",
    "version": 3
   },
   "file_extension": ".py",
   "mimetype": "text/x-python",
   "name": "python",
   "nbconvert_exporter": "python",
   "pygments_lexer": "ipython3",
   "version": "3.6.3"
  }
 },
 "nbformat": 4,
 "nbformat_minor": 2
}
