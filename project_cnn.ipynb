{
 "cells": [
  {
   "cell_type": "code",
   "execution_count": 1,
   "metadata": {},
   "outputs": [],
   "source": [
    "import torch\n",
    "import torch.utils.data\n",
    "from torch.autograd import Variable\n",
    "import torch.nn as nn\n",
    "import torch.optim as optim\n",
    "import numpy as np\n",
    "import h5py\n",
    "from data_utils import get_data"
   ]
  },
  {
   "cell_type": "code",
   "execution_count": 2,
   "metadata": {},
   "outputs": [
    {
     "name": "stdout",
     "output_type": "stream",
     "text": [
      "X_train: (2458, 22, 1000) \n",
      "y_train: (2458,) \n",
      "X_val: (50, 22, 1000) \n",
      "y_val: (50,) \n",
      "X_test: (50, 22, 1000) \n",
      "y_test: (50,) \n"
     ]
    }
   ],
   "source": [
    "# Load data from all .mat files, combine them, eliminate EOG signals, shuffle and \n",
    "# seperate training data, validation data and testing data.\n",
    "# Also do mean subtraction on x.\n",
    "\n",
    "data = get_data('project_datasets')\n",
    "for k in data.keys():\n",
    "    print('{}: {} '.format(k, data[k].shape))"
   ]
  },
  {
   "cell_type": "code",
   "execution_count": 3,
   "metadata": {},
   "outputs": [
    {
     "name": "stdout",
     "output_type": "stream",
     "text": [
      "[[[ -6.63188441 -16.93847259 -20.64440411 ...,  -6.92989886  -5.61507546\n",
      "    -0.30439111]\n",
      "  [ -5.19079918 -19.50032022 -18.81617025 ...,  -4.73688434  -2.12519547\n",
      "    -2.7116296 ]\n",
      "  [ -8.10713741 -18.5641035  -22.42398863 ...,  -9.0166556   -6.58740671\n",
      "    -2.68685796]\n",
      "  ..., \n",
      "  [ -7.07040388 -14.45203243 -14.61367378 ...,  -6.60468925  -8.34251758\n",
      "    -8.87728288]\n",
      "  [-10.32281787 -15.00785461 -14.88276482 ...,  -6.48935316  -8.29680825\n",
      "    -8.72142224]\n",
      "  [ -4.47264036 -11.90514312 -14.4495493  ...,  -0.20653621  -3.16894134\n",
      "    -5.63772153]]\n",
      "\n",
      " [[ 17.92866247  18.99902741  12.99817401 ...,  -0.43575824   0.34195579\n",
      "    -2.01337549]\n",
      "  [ 15.8541227   13.5563204    9.84593912 ...,   9.13030316   7.83574203\n",
      "     5.97977665]\n",
      "  [ 16.20926884  17.32456837  11.60921449 ...,   5.0458444    5.76610891\n",
      "     4.14907954]\n",
      "  ..., \n",
      "  [ 16.708893    17.72570195  14.78085747 ...,   7.60429513   5.32935742\n",
      "     1.32779524]\n",
      "  [ 11.79632275  11.99409851   9.62895393 ...,   3.61806871   0.68756675\n",
      "    -2.91087536]\n",
      "  [ 18.37892214  19.44251313  15.28677882 ...,   7.16651066   5.03418366\n",
      "     1.10055972]]\n",
      "\n",
      " [[-12.49125941 -25.04394134 -10.04870099 ...,  -5.80685199  -5.66390358\n",
      "     0.96514014]\n",
      "  [ -5.2396273  -17.35188272  -2.702889   ...,  -5.90875934  -1.0021486\n",
      "     1.04813603]\n",
      "  [ -8.44893428 -21.24965038  -6.26187926 ...,  -5.35454622  -5.56201609\n",
      "     0.82876704]\n",
      "  ..., \n",
      "  [  6.25967425  -4.10046993   8.77499809 ..., -17.54218925 -11.02806445\n",
      "    -7.46126726]\n",
      "  [  6.08343213  -4.46097961   8.2129383  ..., -17.28036879 -11.47063638\n",
      "    -7.84251599]\n",
      "  [ 10.61525027   1.66907563  12.74771632 ..., -23.79052059 -18.40331634\n",
      "   -15.59865903]]\n",
      "\n",
      " ..., \n",
      " [[ -3.40922816  20.21973054  11.48450214 ...,   4.15408551  -3.85726296\n",
      "    -5.18720361]\n",
      "  [ -4.36072105  15.60710165   8.77172037 ...,  -7.66657184 -15.30878922\n",
      "   -12.72139522]\n",
      "  [ -2.54073116  19.86363087  10.63265199 ...,   1.04193815  -7.61279734\n",
      "    -8.10677984]\n",
      "  ..., \n",
      "  [-13.41806013  11.5733582    7.94491997 ...,   0.03593575  -9.7585332\n",
      "   -10.53743913]\n",
      "  [-12.17828662  13.55659851  10.1660633  ...,  -3.36435316 -13.277277\n",
      "   -12.67650036]\n",
      "  [-13.50584348  10.9952475    7.91373195 ...,  -4.99169246 -13.71581634\n",
      "   -15.01272153]]\n",
      "\n",
      " [[-28.36040003  -3.12011321  -8.87682599 ...,  -2.82833636   0.34195579\n",
      "   -15.09931299]\n",
      "  [-25.7474398    2.2281954   -2.312264   ...,  -2.68610309  -4.61542985\n",
      "   -11.15889522]\n",
      "  [-27.15010616  -0.83949413  -6.60367613 ...,  -3.05962435  -1.11865671\n",
      "   -13.28256109]\n",
      "  ..., \n",
      "  [-27.77352888  -3.51453243  -8.99843941 ...,  -1.57539237   2.1555293\n",
      "    -9.07259538]\n",
      "  [-28.58453662  -2.70316711  -9.99995232 ...,  -0.82529066   2.98248862\n",
      "    -9.74681286]\n",
      "  [-28.05662473  -4.043815   -10.25033055 ...,  -0.54833309   3.22754304\n",
      "    -7.59084653]]\n",
      "\n",
      " [[-18.10649378 -12.83691009 -18.93541974 ...,  17.72830426   8.25211204\n",
      "    12.09795264]\n",
      "  [-25.06384605 -20.6233671  -22.77124838 ...,   8.39788128   5.58964828\n",
      "     6.71219853]\n",
      "  [-23.82979366 -19.88246288 -25.84195738 ...,  17.69232878  10.50243704\n",
      "    14.98892329]\n",
      "  ..., \n",
      "  [-26.11337263 -23.87586055 -29.70156441 ...,   7.60429513   5.03638867\n",
      "    10.31217024]\n",
      "  [-30.04938037 -28.63090149 -34.99995232 ...,   7.18252184   5.42389487\n",
      "     8.80787464]\n",
      "  [-27.12889036 -25.18639312 -31.53939305 ...,   6.38526066   2.34863679\n",
      "     7.69235659]]]\n"
     ]
    }
   ],
   "source": [
    "print(data.get('X_test'))"
   ]
  },
  {
   "cell_type": "code",
   "execution_count": 4,
   "metadata": {},
   "outputs": [],
   "source": [
    "# class flatten to connect to FC layer\n",
    "class Flatten(nn.Module):\n",
    "    def forward(self, x):\n",
    "        N, C, H = x.size() # read in N, C, H\n",
    "        return x.view(N, -1)"
   ]
  },
  {
   "cell_type": "code",
   "execution_count": 5,
   "metadata": {},
   "outputs": [],
   "source": [
    "# turn x and y into torch type tensor\n",
    "dtype = torch.FloatTensor\n",
    "\n",
    "X_train = Variable(torch.Tensor(data.get('X_train'))).type(dtype)\n",
    "y_train = Variable(torch.Tensor(data.get('y_train'))).type(dtype)\n",
    "X_val = Variable(torch.Tensor(data.get('X_val'))).type(dtype)\n",
    "y_val = Variable(torch.Tensor(data.get('y_val'))).type(dtype)\n",
    "X_test = Variable(torch.Tensor(data.get('X_test'))).type(dtype)\n",
    "y_test = Variable(torch.Tensor(data.get('y_test'))).type(dtype)"
   ]
  },
  {
   "cell_type": "code",
   "execution_count": 6,
   "metadata": {},
   "outputs": [],
   "source": [
    "# set up sequential model\n",
    "\n",
    "model = nn.Sequential(\n",
    "                      nn.Conv1d(22, 32, kernel_size=21, stride=1),\n",
    "                       nn.ReLU(inplace=True),\n",
    "                       nn.BatchNorm1d(num_features=32),\n",
    "                       nn.MaxPool1d(kernel_size=4, stride=4),\n",
    "                      Flatten(),\n",
    "                      nn.Linear(7840, 400),\n",
    "                      nn.ReLU(inplace=True),\n",
    "                      nn.Linear(400, 4)\n",
    ")\n",
    "\n",
    "model.type(dtype)\n",
    "loss_fn = nn.CrossEntropyLoss().type(dtype)\n",
    "optimizer = optim.Adam(model.parameters(), lr=1e-3)"
   ]
  },
  {
   "cell_type": "code",
   "execution_count": null,
   "metadata": {},
   "outputs": [],
   "source": [
    "# train through several iterations\n",
    "\n",
    "for t in range(1):\n",
    "    \n",
    "    # calculate loss\n",
    "    y_pred = model(X_train)\n",
    "    loss = loss_fn(y_pred, y_train.type(torch.LongTensor))\n",
    "    \n",
    "    # backpropagation\n",
    "    model.zero_grad()\n",
    "    loss.backward()\n",
    "    \n",
    "    # update parameters\n",
    "    optimizer.step()\n",
    "    \n",
    "    print(t,loss)"
   ]
  },
  {
   "cell_type": "code",
   "execution_count": null,
   "metadata": {},
   "outputs": [],
   "source": [
    "np.set_printoptions(threshold=np.nan)\n",
    "y_temp = y_pred.data.numpy()\n",
    "#print(y_temp)\n",
    "np.isnan(np.sum(y_temp))\n"
   ]
  },
  {
   "cell_type": "code",
   "execution_count": null,
   "metadata": {},
   "outputs": [],
   "source": []
  }
 ],
 "metadata": {
  "kernelspec": {
   "display_name": "Python 3",
   "language": "python",
   "name": "python3"
  }
 },
 "nbformat": 4,
 "nbformat_minor": 2
}
