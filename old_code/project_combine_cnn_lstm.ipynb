{
 "cells": [
  {
   "cell_type": "code",
   "execution_count": 1,
   "metadata": {},
   "outputs": [
    {
     "name": "stderr",
     "output_type": "stream",
     "text": [
      "/mnt/g/Course/2017-2018_4th_year/2018_winter/ECE_239AS/Project/.env4/lib/python3.6/site-packages/h5py/__init__.py:36: FutureWarning: Conversion of the second argument of issubdtype from `float` to `np.floating` is deprecated. In future, it will be treated as `np.float64 == np.dtype(float).type`.\n",
      "  from ._conv import register_converters as _register_converters\n",
      "Using TensorFlow backend.\n"
     ]
    }
   ],
   "source": [
    "from keras.models import Sequential\n",
    "from keras.layers import LSTM, Dense, Dropout, BatchNormalization\n",
    "from keras.layers import Conv1D, MaxPooling1D, Activation, Flatten\n",
    "from keras.utils import to_categorical\n",
    "import numpy as np\n",
    "import h5py\n",
    "import matplotlib.pyplot as plt\n",
    "from data_utils import get_data\n",
    "from sklearn import preprocessing\n"
   ]
  },
  {
   "cell_type": "code",
   "execution_count": 2,
   "metadata": {
    "scrolled": true
   },
   "outputs": [
    {
     "name": "stdout",
     "output_type": "stream",
     "text": [
      "X_train: (2358, 1000, 22) \n",
      "y_train: (2358,) \n",
      "X_val: (100, 1000, 22) \n",
      "y_val: (100,) \n",
      "X_test: (100, 1000, 22) \n",
      "y_test: (100,) \n"
     ]
    }
   ],
   "source": [
    "# Load data from all .mat files, combine them, eliminate EOG signals, shuffle and \n",
    "# seperate training data, validation data and testing data.\n",
    "# Also do mean subtraction on x.\n",
    "\n",
    "data = get_data('../project_datasets',num_validation=100, num_test=100, subtract_mean=True, subtract_axis=1,\n",
    "                transpose=True)\n",
    "for k in data.keys():\n",
    "    print('{}: {} '.format(k, data[k].shape))"
   ]
  },
  {
   "cell_type": "code",
   "execution_count": 3,
   "metadata": {},
   "outputs": [],
   "source": [
    "num_classes = 4\n",
    "\n",
    "# substract data from list\n",
    "X_train = data.get('X_train')\n",
    "y_train = data.get('y_train')\n",
    "X_val = data.get('X_val')\n",
    "y_val = data.get('y_val')\n",
    "X_test = data.get('X_test')\n",
    "y_test = data.get('y_test')\n",
    "\n",
    "# get data dimension\n",
    "N_train, T_train, C_train = data.get('X_train').shape\n",
    "N_val, T_val, C_val = data.get('X_val').shape\n",
    "N_test, T_test, C_test = data.get('X_test').shape\n",
    "\n",
    "# add dummy zeros for y classification, convert class vectors to binary class matrices.\n",
    "y_train = to_categorical(y_train, num_classes)\n",
    "y_val = to_categorical(y_val, num_classes)\n",
    "y_test = to_categorical(y_test, num_classes)"
   ]
  },
  {
   "cell_type": "code",
   "execution_count": 4,
   "metadata": {},
   "outputs": [
    {
     "name": "stdout",
     "output_type": "stream",
     "text": [
      "X_train:  (2358, 1000, 22)\n",
      "y_train:  (2358, 4)\n",
      "X_val:  (100, 1000, 22)\n",
      "y_val:  (100, 4)\n",
      "X_test:  (100, 1000, 22)\n",
      "y_test:  (100, 4)\n"
     ]
    }
   ],
   "source": [
    "# construct X_total and y_total based on sub-sampling of X_train and y_train\n",
    "\n",
    "# take sub-sampling on the time sequence to reduce dimension for RNN\n",
    "sampling = 1\n",
    "\n",
    "X_train = X_train.reshape(N_train,int(T_train/sampling), sampling, C_train)[:,:,0,:]\n",
    "X_val = X_val.reshape(N_val,int(T_val/sampling), sampling, C_val)[:,:,0,:]\n",
    "X_test = X_test.reshape(N_test,int(T_test/sampling), sampling, C_test)[:,:,0,:]\n",
    "\n",
    "# get new data dimension\n",
    "N_train, T_train, C_train = X_train.shape\n",
    "N_val, T_val, C_val = X_val.shape\n",
    "N_test, T_test, C_test = X_test.shape\n",
    "\n",
    "print('X_train: ', X_train.shape)\n",
    "print('y_train: ', y_train.shape)\n",
    "print('X_val: ', X_val.shape)\n",
    "print('y_val: ', y_val.shape)\n",
    "print('X_test: ', X_test.shape)\n",
    "print('y_test: ', y_test.shape)"
   ]
  },
  {
   "cell_type": "code",
   "execution_count": 5,
   "metadata": {},
   "outputs": [
    {
     "name": "stdout",
     "output_type": "stream",
     "text": [
      "WARNING:tensorflow:From /mnt/g/Course/2017-2018_4th_year/2018_winter/ECE_239AS/Project/.env4/lib/python3.6/site-packages/tensorflow/python/util/deprecation.py:497: calling conv1d (from tensorflow.python.ops.nn_ops) with data_format=NHWC is deprecated and will be removed in a future version.\n",
      "Instructions for updating:\n",
      "`NHWC` for data_format is deprecated, use `NWC` instead\n"
     ]
    }
   ],
   "source": [
    "# Expected input batch shape: (batch_size, timesteps, data_dim)\n",
    "# Note that we have to provide the full batch_input_shape since the network is stateful.\n",
    "# the sample of index i in batch k is the follow-up for the sample i in batch k-1.\n",
    "\n",
    "# perhaps should try masking layer\n",
    "\n",
    "data_dim = C_train\n",
    "timesteps = T_train\n",
    "batch_size = 100\n",
    "num_epoch = 100\n",
    "\n",
    "# make a sequential model\n",
    "model = Sequential()\n",
    "\n",
    "# add 1-layer cnn\n",
    "model.add(Conv1D(40, kernel_size=12, strides=4,\n",
    "          input_shape=(timesteps, data_dim)))\n",
    "model.add(Activation('relu'))\n",
    "model.add(Dropout(0.75))\n",
    "model.add(BatchNormalization())\n",
    "model.add(MaxPooling1D(pool_size=4, strides=4))\n",
    "\n",
    "\n",
    "# add 2-layer lstm\n",
    "model.add(LSTM(20, return_sequences=True, stateful=False))\n",
    "model.add(Dropout(0.5))\n",
    "model.add(BatchNormalization())\n",
    "model.add(LSTM(20, return_sequences=True, stateful=False))\n",
    "model.add(Dropout(0.5))\n",
    "model.add(BatchNormalization())\n",
    "model.add(Flatten())\n",
    "model.add(Dense(num_classes, activation='softmax'))\n",
    "\n",
    "# set loss function and optimizer\n",
    "model.compile(loss='categorical_crossentropy',\n",
    "              optimizer='adam',\n",
    "              metrics=['accuracy'])"
   ]
  },
  {
   "cell_type": "code",
   "execution_count": 6,
   "metadata": {},
   "outputs": [
    {
     "name": "stdout",
     "output_type": "stream",
     "text": [
      "Train on 2358 samples, validate on 100 samples\n",
      "Epoch 1/100\n",
      "2358/2358 [==============================] - 8s 3ms/step - loss: 1.8736 - acc: 0.2612 - val_loss: 1.3647 - val_acc: 0.2900\n",
      "Epoch 2/100\n",
      "2358/2358 [==============================] - 6s 3ms/step - loss: 1.7419 - acc: 0.2841 - val_loss: 1.3374 - val_acc: 0.3300\n",
      "Epoch 3/100\n",
      "2358/2358 [==============================] - 7s 3ms/step - loss: 1.6269 - acc: 0.2892 - val_loss: 1.3266 - val_acc: 0.4100\n",
      "Epoch 4/100\n",
      "2358/2358 [==============================] - 9s 4ms/step - loss: 1.5767 - acc: 0.3100 - val_loss: 1.2980 - val_acc: 0.3800\n",
      "Epoch 5/100\n",
      "2358/2358 [==============================] - 9s 4ms/step - loss: 1.5225 - acc: 0.3172 - val_loss: 1.3064 - val_acc: 0.3400\n",
      "Epoch 6/100\n",
      "2358/2358 [==============================] - 9s 4ms/step - loss: 1.4804 - acc: 0.3308 - val_loss: 1.2999 - val_acc: 0.4100\n",
      "Epoch 7/100\n",
      "2358/2358 [==============================] - 9s 4ms/step - loss: 1.4346 - acc: 0.3418 - val_loss: 1.2878 - val_acc: 0.4500\n",
      "Epoch 8/100\n",
      "2358/2358 [==============================] - 9s 4ms/step - loss: 1.3921 - acc: 0.3736 - val_loss: 1.2552 - val_acc: 0.4300\n",
      "Epoch 9/100\n",
      "2358/2358 [==============================] - 9s 4ms/step - loss: 1.3940 - acc: 0.3685 - val_loss: 1.2324 - val_acc: 0.4900\n",
      "Epoch 10/100\n",
      "2358/2358 [==============================] - 9s 4ms/step - loss: 1.3683 - acc: 0.3863 - val_loss: 1.2292 - val_acc: 0.5200\n",
      "Epoch 11/100\n",
      "2358/2358 [==============================] - 9s 4ms/step - loss: 1.3197 - acc: 0.4114 - val_loss: 1.2055 - val_acc: 0.5000\n",
      "Epoch 12/100\n",
      "2358/2358 [==============================] - 9s 4ms/step - loss: 1.3047 - acc: 0.4097 - val_loss: 1.2009 - val_acc: 0.4600\n",
      "Epoch 13/100\n",
      "2358/2358 [==============================] - 9s 4ms/step - loss: 1.2877 - acc: 0.4296 - val_loss: 1.1711 - val_acc: 0.5000\n",
      "Epoch 14/100\n",
      "2358/2358 [==============================] - 9s 4ms/step - loss: 1.2622 - acc: 0.4466 - val_loss: 1.1503 - val_acc: 0.5500\n",
      "Epoch 15/100\n",
      "2358/2358 [==============================] - 9s 4ms/step - loss: 1.2394 - acc: 0.4500 - val_loss: 1.1413 - val_acc: 0.5500\n",
      "Epoch 16/100\n",
      "2358/2358 [==============================] - 9s 4ms/step - loss: 1.2304 - acc: 0.4521 - val_loss: 1.1756 - val_acc: 0.5300\n",
      "Epoch 17/100\n",
      "2358/2358 [==============================] - 9s 4ms/step - loss: 1.2174 - acc: 0.4631 - val_loss: 1.1338 - val_acc: 0.5200\n",
      "Epoch 18/100\n",
      "2358/2358 [==============================] - 9s 4ms/step - loss: 1.2235 - acc: 0.4640 - val_loss: 1.1370 - val_acc: 0.5100\n",
      "Epoch 19/100\n",
      "2358/2358 [==============================] - 9s 4ms/step - loss: 1.1830 - acc: 0.4788 - val_loss: 1.1893 - val_acc: 0.5300\n",
      "Epoch 20/100\n",
      "2358/2358 [==============================] - 9s 4ms/step - loss: 1.1769 - acc: 0.4847 - val_loss: 1.1198 - val_acc: 0.5300\n",
      "Epoch 21/100\n",
      "2358/2358 [==============================] - 9s 4ms/step - loss: 1.1670 - acc: 0.4928 - val_loss: 1.0986 - val_acc: 0.5400\n",
      "Epoch 22/100\n",
      "2358/2358 [==============================] - 9s 4ms/step - loss: 1.1390 - acc: 0.5157 - val_loss: 1.1069 - val_acc: 0.5900\n",
      "Epoch 23/100\n",
      "2358/2358 [==============================] - 9s 4ms/step - loss: 1.1479 - acc: 0.5148 - val_loss: 1.1320 - val_acc: 0.6100\n",
      "Epoch 24/100\n",
      "2358/2358 [==============================] - 9s 4ms/step - loss: 1.1489 - acc: 0.5085 - val_loss: 1.1029 - val_acc: 0.5900\n",
      "Epoch 25/100\n",
      "2358/2358 [==============================] - 9s 4ms/step - loss: 1.1236 - acc: 0.5098 - val_loss: 1.1128 - val_acc: 0.5600\n",
      "Epoch 26/100\n",
      "2358/2358 [==============================] - 9s 4ms/step - loss: 1.1321 - acc: 0.5229 - val_loss: 1.0940 - val_acc: 0.5900\n",
      "Epoch 27/100\n",
      "2358/2358 [==============================] - 9s 4ms/step - loss: 1.0947 - acc: 0.5314 - val_loss: 1.1053 - val_acc: 0.5700\n",
      "Epoch 28/100\n",
      "2358/2358 [==============================] - 9s 4ms/step - loss: 1.1271 - acc: 0.5187 - val_loss: 1.0926 - val_acc: 0.5700\n",
      "Epoch 29/100\n",
      "2358/2358 [==============================] - 9s 4ms/step - loss: 1.1054 - acc: 0.5288 - val_loss: 1.0956 - val_acc: 0.5800\n",
      "Epoch 30/100\n",
      "2358/2358 [==============================] - 9s 4ms/step - loss: 1.0870 - acc: 0.5335 - val_loss: 1.0497 - val_acc: 0.5900\n",
      "Epoch 31/100\n",
      "2358/2358 [==============================] - 9s 4ms/step - loss: 1.0841 - acc: 0.5335 - val_loss: 1.0502 - val_acc: 0.5600\n",
      "Epoch 32/100\n",
      "2358/2358 [==============================] - 9s 4ms/step - loss: 1.0920 - acc: 0.5331 - val_loss: 1.0343 - val_acc: 0.5800\n",
      "Epoch 33/100\n",
      "2358/2358 [==============================] - 9s 4ms/step - loss: 1.0869 - acc: 0.5377 - val_loss: 1.0572 - val_acc: 0.5800\n",
      "Epoch 34/100\n",
      "2358/2358 [==============================] - 9s 4ms/step - loss: 1.0636 - acc: 0.5517 - val_loss: 1.0400 - val_acc: 0.5900\n",
      "Epoch 35/100\n",
      "2358/2358 [==============================] - 9s 4ms/step - loss: 1.0610 - acc: 0.5441 - val_loss: 1.0224 - val_acc: 0.5600\n",
      "Epoch 36/100\n",
      "2358/2358 [==============================] - 9s 4ms/step - loss: 1.0497 - acc: 0.5598 - val_loss: 1.0180 - val_acc: 0.5800\n",
      "Epoch 37/100\n",
      "2358/2358 [==============================] - 9s 4ms/step - loss: 1.0696 - acc: 0.5547 - val_loss: 0.9901 - val_acc: 0.5900\n",
      "Epoch 38/100\n",
      "2358/2358 [==============================] - 9s 4ms/step - loss: 1.0315 - acc: 0.5581 - val_loss: 1.0330 - val_acc: 0.5800\n",
      "Epoch 39/100\n",
      "2358/2358 [==============================] - 9s 4ms/step - loss: 1.0407 - acc: 0.5539 - val_loss: 1.0296 - val_acc: 0.6000\n",
      "Epoch 40/100\n",
      "2358/2358 [==============================] - 9s 4ms/step - loss: 1.0383 - acc: 0.5585 - val_loss: 0.9902 - val_acc: 0.5800\n",
      "Epoch 41/100\n",
      "2358/2358 [==============================] - 9s 4ms/step - loss: 1.0400 - acc: 0.5674 - val_loss: 0.9738 - val_acc: 0.5900\n",
      "Epoch 42/100\n",
      "2358/2358 [==============================] - 9s 4ms/step - loss: 1.0067 - acc: 0.5882 - val_loss: 0.9873 - val_acc: 0.5700\n",
      "Epoch 43/100\n",
      "2358/2358 [==============================] - 9s 4ms/step - loss: 1.0037 - acc: 0.5925 - val_loss: 1.0053 - val_acc: 0.5600\n",
      "Epoch 44/100\n",
      "2358/2358 [==============================] - 9s 4ms/step - loss: 1.0071 - acc: 0.5861 - val_loss: 1.0179 - val_acc: 0.5700\n",
      "Epoch 45/100\n",
      "2358/2358 [==============================] - 9s 4ms/step - loss: 1.0219 - acc: 0.5818 - val_loss: 1.0002 - val_acc: 0.6100\n",
      "Epoch 46/100\n",
      "2358/2358 [==============================] - 9s 4ms/step - loss: 0.9934 - acc: 0.5785 - val_loss: 1.0154 - val_acc: 0.5700\n",
      "Epoch 47/100\n",
      "2358/2358 [==============================] - 9s 4ms/step - loss: 0.9898 - acc: 0.5827 - val_loss: 1.0466 - val_acc: 0.5200\n",
      "Epoch 48/100\n",
      "2358/2358 [==============================] - 9s 4ms/step - loss: 0.9875 - acc: 0.5746 - val_loss: 0.9956 - val_acc: 0.5700\n",
      "Epoch 49/100\n",
      "2358/2358 [==============================] - 9s 4ms/step - loss: 0.9966 - acc: 0.5929 - val_loss: 0.9790 - val_acc: 0.5800\n",
      "Epoch 50/100\n",
      "2358/2358 [==============================] - 9s 4ms/step - loss: 0.9875 - acc: 0.5941 - val_loss: 1.0124 - val_acc: 0.5600\n",
      "Epoch 51/100\n",
      "2358/2358 [==============================] - 9s 4ms/step - loss: 0.9601 - acc: 0.5980 - val_loss: 1.0024 - val_acc: 0.5400\n",
      "Epoch 52/100\n",
      "2358/2358 [==============================] - 9s 4ms/step - loss: 0.9740 - acc: 0.5946 - val_loss: 0.9577 - val_acc: 0.5800\n",
      "Epoch 53/100\n",
      "2358/2358 [==============================] - 9s 4ms/step - loss: 0.9391 - acc: 0.6158 - val_loss: 0.9637 - val_acc: 0.5700\n",
      "Epoch 54/100\n",
      "2358/2358 [==============================] - 9s 4ms/step - loss: 0.9291 - acc: 0.6183 - val_loss: 0.9841 - val_acc: 0.6000\n",
      "Epoch 55/100\n",
      "2358/2358 [==============================] - 9s 4ms/step - loss: 0.9508 - acc: 0.6124 - val_loss: 0.9578 - val_acc: 0.6100\n",
      "Epoch 56/100\n",
      "2358/2358 [==============================] - 9s 4ms/step - loss: 0.9500 - acc: 0.6077 - val_loss: 0.9750 - val_acc: 0.6100\n",
      "Epoch 57/100\n",
      "2358/2358 [==============================] - 9s 4ms/step - loss: 0.9322 - acc: 0.6158 - val_loss: 1.0660 - val_acc: 0.5600\n",
      "Epoch 58/100\n",
      "2358/2358 [==============================] - 7s 3ms/step - loss: 0.9364 - acc: 0.6124 - val_loss: 1.0409 - val_acc: 0.5500\n",
      "Epoch 59/100\n",
      "2358/2358 [==============================] - 6s 3ms/step - loss: 0.9326 - acc: 0.6141 - val_loss: 1.0128 - val_acc: 0.5800\n",
      "Epoch 60/100\n",
      "2358/2358 [==============================] - 6s 3ms/step - loss: 0.9194 - acc: 0.6192 - val_loss: 1.0176 - val_acc: 0.5700\n"
     ]
    },
    {
     "name": "stdout",
     "output_type": "stream",
     "text": [
      "Epoch 61/100\n",
      "2358/2358 [==============================] - 6s 3ms/step - loss: 0.9297 - acc: 0.6192 - val_loss: 0.9450 - val_acc: 0.6200\n",
      "Epoch 62/100\n",
      "2358/2358 [==============================] - 6s 3ms/step - loss: 0.9110 - acc: 0.6289 - val_loss: 0.9569 - val_acc: 0.5800\n",
      "Epoch 63/100\n",
      "2358/2358 [==============================] - 6s 3ms/step - loss: 0.8906 - acc: 0.6285 - val_loss: 0.9817 - val_acc: 0.5700\n",
      "Epoch 64/100\n",
      "2358/2358 [==============================] - 6s 3ms/step - loss: 0.8797 - acc: 0.6412 - val_loss: 0.9276 - val_acc: 0.6100\n",
      "Epoch 65/100\n",
      "2358/2358 [==============================] - 6s 3ms/step - loss: 0.9077 - acc: 0.6378 - val_loss: 0.9906 - val_acc: 0.5600\n",
      "Epoch 66/100\n",
      "2358/2358 [==============================] - 6s 3ms/step - loss: 0.9016 - acc: 0.6349 - val_loss: 0.9589 - val_acc: 0.5400\n",
      "Epoch 67/100\n",
      "2358/2358 [==============================] - 7s 3ms/step - loss: 0.9043 - acc: 0.6268 - val_loss: 0.8695 - val_acc: 0.6100\n",
      "Epoch 68/100\n",
      "2358/2358 [==============================] - 6s 3ms/step - loss: 0.8892 - acc: 0.6421 - val_loss: 0.9296 - val_acc: 0.6000\n",
      "Epoch 69/100\n",
      "2358/2358 [==============================] - 6s 3ms/step - loss: 0.8580 - acc: 0.6518 - val_loss: 1.0339 - val_acc: 0.5400\n",
      "Epoch 70/100\n",
      "2358/2358 [==============================] - 6s 3ms/step - loss: 0.8801 - acc: 0.6565 - val_loss: 0.9406 - val_acc: 0.6100\n",
      "Epoch 71/100\n",
      "2358/2358 [==============================] - 6s 3ms/step - loss: 0.8533 - acc: 0.6518 - val_loss: 1.0281 - val_acc: 0.6100\n",
      "Epoch 72/100\n",
      "2358/2358 [==============================] - 6s 3ms/step - loss: 0.8419 - acc: 0.6616 - val_loss: 0.9869 - val_acc: 0.5700\n",
      "Epoch 73/100\n",
      "2358/2358 [==============================] - 7s 3ms/step - loss: 0.8455 - acc: 0.6561 - val_loss: 0.9670 - val_acc: 0.6000\n",
      "Epoch 74/100\n",
      "2358/2358 [==============================] - 6s 3ms/step - loss: 0.8743 - acc: 0.6404 - val_loss: 1.0002 - val_acc: 0.5700\n",
      "Epoch 75/100\n",
      "2358/2358 [==============================] - 7s 3ms/step - loss: 0.8629 - acc: 0.6561 - val_loss: 1.0063 - val_acc: 0.5900\n",
      "Epoch 76/100\n",
      "2358/2358 [==============================] - 6s 3ms/step - loss: 0.8573 - acc: 0.6573 - val_loss: 0.9802 - val_acc: 0.5800\n",
      "Epoch 77/100\n",
      "2358/2358 [==============================] - 6s 3ms/step - loss: 0.8417 - acc: 0.6552 - val_loss: 1.0245 - val_acc: 0.5900\n",
      "Epoch 78/100\n",
      "2358/2358 [==============================] - 7s 3ms/step - loss: 0.8346 - acc: 0.6641 - val_loss: 1.0464 - val_acc: 0.5700\n",
      "Epoch 79/100\n",
      "2358/2358 [==============================] - 6s 3ms/step - loss: 0.8317 - acc: 0.6718 - val_loss: 0.9636 - val_acc: 0.5900\n",
      "Epoch 80/100\n",
      "2358/2358 [==============================] - 6s 3ms/step - loss: 0.8222 - acc: 0.6798 - val_loss: 0.9559 - val_acc: 0.5700\n",
      "Epoch 81/100\n",
      "2358/2358 [==============================] - 6s 3ms/step - loss: 0.7934 - acc: 0.6849 - val_loss: 0.9175 - val_acc: 0.5900\n",
      "Epoch 82/100\n",
      "2358/2358 [==============================] - 6s 3ms/step - loss: 0.8253 - acc: 0.6692 - val_loss: 0.9325 - val_acc: 0.6100\n",
      "Epoch 83/100\n",
      "2358/2358 [==============================] - 6s 3ms/step - loss: 0.8187 - acc: 0.6768 - val_loss: 0.9323 - val_acc: 0.6000\n",
      "Epoch 84/100\n",
      "2358/2358 [==============================] - 7s 3ms/step - loss: 0.8172 - acc: 0.6718 - val_loss: 1.0196 - val_acc: 0.5700\n",
      "Epoch 85/100\n",
      "2358/2358 [==============================] - 7s 3ms/step - loss: 0.8083 - acc: 0.6773 - val_loss: 0.9203 - val_acc: 0.6000\n",
      "Epoch 86/100\n",
      "2358/2358 [==============================] - 6s 3ms/step - loss: 0.7971 - acc: 0.6819 - val_loss: 1.0311 - val_acc: 0.5700\n",
      "Epoch 87/100\n",
      "2358/2358 [==============================] - 7s 3ms/step - loss: 0.8012 - acc: 0.6866 - val_loss: 0.9425 - val_acc: 0.6000\n",
      "Epoch 88/100\n",
      "2358/2358 [==============================] - 7s 3ms/step - loss: 0.7938 - acc: 0.6891 - val_loss: 0.9950 - val_acc: 0.5700\n",
      "Epoch 89/100\n",
      "2358/2358 [==============================] - 7s 3ms/step - loss: 0.7988 - acc: 0.6781 - val_loss: 0.8905 - val_acc: 0.5900\n",
      "Epoch 90/100\n",
      "2358/2358 [==============================] - 6s 3ms/step - loss: 0.7717 - acc: 0.7044 - val_loss: 0.9096 - val_acc: 0.6000\n",
      "Epoch 91/100\n",
      "2358/2358 [==============================] - 6s 3ms/step - loss: 0.7603 - acc: 0.7070 - val_loss: 0.9053 - val_acc: 0.6000\n",
      "Epoch 92/100\n",
      "2358/2358 [==============================] - 6s 3ms/step - loss: 0.7919 - acc: 0.6845 - val_loss: 1.0246 - val_acc: 0.5400\n",
      "Epoch 93/100\n",
      "2358/2358 [==============================] - 7s 3ms/step - loss: 0.7895 - acc: 0.6879 - val_loss: 1.1531 - val_acc: 0.5400\n",
      "Epoch 94/100\n",
      "2358/2358 [==============================] - 7s 3ms/step - loss: 0.7894 - acc: 0.6824 - val_loss: 1.0562 - val_acc: 0.5300\n",
      "Epoch 95/100\n",
      "2358/2358 [==============================] - 6s 3ms/step - loss: 0.7667 - acc: 0.6989 - val_loss: 0.9792 - val_acc: 0.5800\n",
      "Epoch 96/100\n",
      "2358/2358 [==============================] - 6s 3ms/step - loss: 0.7734 - acc: 0.6989 - val_loss: 0.9623 - val_acc: 0.6000\n",
      "Epoch 97/100\n",
      "2358/2358 [==============================] - 6s 3ms/step - loss: 0.7616 - acc: 0.6917 - val_loss: 0.9540 - val_acc: 0.6000\n",
      "Epoch 98/100\n",
      "2358/2358 [==============================] - 7s 3ms/step - loss: 0.7705 - acc: 0.6841 - val_loss: 0.9463 - val_acc: 0.5700\n",
      "Epoch 99/100\n",
      "2358/2358 [==============================] - 7s 3ms/step - loss: 0.7517 - acc: 0.6925 - val_loss: 0.9603 - val_acc: 0.5400\n",
      "Epoch 100/100\n",
      "2358/2358 [==============================] - 7s 3ms/step - loss: 0.7547 - acc: 0.7044 - val_loss: 0.9461 - val_acc: 0.6100\n"
     ]
    }
   ],
   "source": [
    "# train the data with validation\n",
    "history = model.fit(X_train, y_train,\n",
    "                    batch_size=batch_size, \n",
    "                    epochs=num_epoch, \n",
    "                    shuffle=False,\n",
    "                    validation_data=(X_val, y_val))"
   ]
  },
  {
   "cell_type": "code",
   "execution_count": 7,
   "metadata": {},
   "outputs": [
    {
     "name": "stdout",
     "output_type": "stream",
     "text": [
      "dict_keys(['val_loss', 'val_acc', 'loss', 'acc'])\n"
     ]
    },
    {
     "data": {
      "image/png": "[encoded data removed]",
      "text/plain": [
       "<matplotlib.figure.Figure at 0x7fc12e83ee80>"
      ]
     },
     "metadata": {},
     "output_type": "display_data"
    },
    {
     "data": {
      "image/png": "[encoded data removed]",
      "text/plain": [
       "<matplotlib.figure.Figure at 0x7fc12e90fbe0>"
      ]
     },
     "metadata": {},
     "output_type": "display_data"
    }
   ],
   "source": [
    "# list all data in history\n",
    "print(history.history.keys())\n",
    "\n",
    "# summarize history for accuracy\n",
    "plt.plot(history.history['acc'])\n",
    "plt.plot(history.history['val_acc'])\n",
    "plt.title('model accuracy')\n",
    "plt.ylabel('accuracy')\n",
    "plt.xlabel('epoch')\n",
    "plt.legend(['train', 'val'], loc='upper left')\n",
    "plt.show()\n",
    "\n",
    "# summarize history for loss\n",
    "plt.plot(history.history['loss'],'o')\n",
    "plt.plot(history.history['val_loss'],'o')\n",
    "plt.title('model loss')\n",
    "plt.ylabel('loss')\n",
    "plt.xlabel('epoch')\n",
    "plt.legend(['train', 'val'], loc='upper left')\n",
    "plt.show()"
   ]
  },
  {
   "cell_type": "code",
   "execution_count": 8,
   "metadata": {},
   "outputs": [
    {
     "name": "stdout",
     "output_type": "stream",
     "text": [
      "\r",
      "100/100 [==============================] - 0s 902us/step\n"
     ]
    },
    {
     "data": {
      "text/plain": [
       "[0.8230463266372681, 0.6600000262260437]"
      ]
     },
     "execution_count": 8,
     "metadata": {},
     "output_type": "execute_result"
    }
   ],
   "source": [
    "# test set\n",
    "model.evaluate(X_test,y_test,batch_size=N_test)"
   ]
  }
 ],
 "metadata": {
  "kernelspec": {
   "display_name": "Python 3",
   "language": "python",
   "name": "python3"
  },
  "language_info": {
   "codemirror_mode": {
    "name": "ipython",
    "version": 3
   },
   "file_extension": ".py",
   "mimetype": "text/x-python",
   "name": "python",
   "nbconvert_exporter": "python",
   "pygments_lexer": "ipython3",
   "version": "3.6.3"
  }
 },
 "nbformat": 4,
 "nbformat_minor": 2
}
