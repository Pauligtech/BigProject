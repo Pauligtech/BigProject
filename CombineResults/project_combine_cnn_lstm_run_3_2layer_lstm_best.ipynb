{
 "cells": [
  {
   "cell_type": "markdown",
   "metadata": {},
   "source": [
    "This run has higher dropout, larger size lstm.\n",
    "\n",
    "This run has validation accuracy around 70%+\n",
    "\n",
    "From results shown, high dropout does contribute to regularization. Compared to the first run, validation accuracy doesn't improve, however the training history is less oscillatory."
   ]
  },
  {
   "cell_type": "code",
   "execution_count": 1,
   "metadata": {},
   "outputs": [
    {
     "name": "stderr",
     "output_type": "stream",
     "text": [
      "/mnt/g/Course/2017-2018_4th_year/2018_winter/ECE_239AS/Project/.env4/lib/python3.6/site-packages/h5py/__init__.py:36: FutureWarning: Conversion of the second argument of issubdtype from `float` to `np.floating` is deprecated. In future, it will be treated as `np.float64 == np.dtype(float).type`.\n",
      "  from ._conv import register_converters as _register_converters\n",
      "Using TensorFlow backend.\n"
     ]
    }
   ],
   "source": [
    "from keras.models import Sequential\n",
    "from keras.layers import LSTM, Dense, Dropout, BatchNormalization\n",
    "from keras.layers import Conv1D, MaxPooling1D, Activation, Flatten\n",
    "from keras.utils import to_categorical\n",
    "import numpy as np\n",
    "import h5py\n",
    "import matplotlib.pyplot as plt\n",
    "from data_utils import get_data\n",
    "from sklearn import preprocessing\n"
   ]
  },
  {
   "cell_type": "code",
   "execution_count": 2,
   "metadata": {
    "scrolled": true
   },
   "outputs": [
    {
     "name": "stdout",
     "output_type": "stream",
     "text": [
      "X_train: (2358, 1000, 22) \n",
      "y_train: (2358,) \n",
      "X_val: (100, 1000, 22) \n",
      "y_val: (100,) \n",
      "X_test: (100, 1000, 22) \n",
      "y_test: (100,) \n"
     ]
    }
   ],
   "source": [
    "# Load data from all .mat files, combine them, eliminate EOG signals, shuffle and \n",
    "# seperate training data, validation data and testing data.\n",
    "# Also do mean subtraction on x.\n",
    "\n",
    "data = get_data('../project_datasets',num_validation=100, num_test=100, subtract_mean=True, subtract_axis=1,\n",
    "                transpose=True)\n",
    "for k in data.keys():\n",
    "    print('{}: {} '.format(k, data[k].shape))"
   ]
  },
  {
   "cell_type": "code",
   "execution_count": 3,
   "metadata": {},
   "outputs": [],
   "source": [
    "num_classes = 4\n",
    "\n",
    "# substract data from list\n",
    "X_train = data.get('X_train')\n",
    "y_train = data.get('y_train')\n",
    "X_val = data.get('X_val')\n",
    "y_val = data.get('y_val')\n",
    "X_test = data.get('X_test')\n",
    "y_test = data.get('y_test')\n",
    "\n",
    "# get data dimension\n",
    "N_train, T_train, C_train = data.get('X_train').shape\n",
    "N_val, T_val, C_val = data.get('X_val').shape\n",
    "N_test, T_test, C_test = data.get('X_test').shape\n",
    "\n",
    "# add dummy zeros for y classification, convert class vectors to binary class matrices.\n",
    "y_train = to_categorical(y_train, num_classes)\n",
    "y_val = to_categorical(y_val, num_classes)\n",
    "y_test = to_categorical(y_test, num_classes)"
   ]
  },
  {
   "cell_type": "code",
   "execution_count": 4,
   "metadata": {},
   "outputs": [
    {
     "name": "stdout",
     "output_type": "stream",
     "text": [
      "X_train:  (2358, 1000, 22)\n",
      "y_train:  (2358, 4)\n",
      "X_val:  (100, 1000, 22)\n",
      "y_val:  (100, 4)\n",
      "X_test:  (100, 1000, 22)\n",
      "y_test:  (100, 4)\n"
     ]
    }
   ],
   "source": [
    "# construct X_total and y_total based on sub-sampling of X_train and y_train\n",
    "\n",
    "# take sub-sampling on the time sequence to reduce dimension for RNN\n",
    "sampling = 1\n",
    "\n",
    "X_train = X_train.reshape(N_train,int(T_train/sampling), sampling, C_train)[:,:,0,:]\n",
    "X_val = X_val.reshape(N_val,int(T_val/sampling), sampling, C_val)[:,:,0,:]\n",
    "X_test = X_test.reshape(N_test,int(T_test/sampling), sampling, C_test)[:,:,0,:]\n",
    "\n",
    "# get new data dimension\n",
    "N_train, T_train, C_train = X_train.shape\n",
    "N_val, T_val, C_val = X_val.shape\n",
    "N_test, T_test, C_test = X_test.shape\n",
    "\n",
    "print('X_train: ', X_train.shape)\n",
    "print('y_train: ', y_train.shape)\n",
    "print('X_val: ', X_val.shape)\n",
    "print('y_val: ', y_val.shape)\n",
    "print('X_test: ', X_test.shape)\n",
    "print('y_test: ', y_test.shape)"
   ]
  },
  {
   "cell_type": "code",
   "execution_count": 5,
   "metadata": {},
   "outputs": [
    {
     "name": "stdout",
     "output_type": "stream",
     "text": [
      "WARNING:tensorflow:From /mnt/g/Course/2017-2018_4th_year/2018_winter/ECE_239AS/Project/.env4/lib/python3.6/site-packages/tensorflow/python/util/deprecation.py:497: calling conv1d (from tensorflow.python.ops.nn_ops) with data_format=NHWC is deprecated and will be removed in a future version.\n",
      "Instructions for updating:\n",
      "`NHWC` for data_format is deprecated, use `NWC` instead\n"
     ]
    }
   ],
   "source": [
    "# Expected input batch shape: (batch_size, timesteps, data_dim)\n",
    "# Note that we have to provide the full batch_input_shape since the network is stateful.\n",
    "# the sample of index i in batch k is the follow-up for the sample i in batch k-1.\n",
    "\n",
    "# perhaps should try masking layer\n",
    "\n",
    "data_dim = C_train\n",
    "timesteps = T_train\n",
    "batch_size = 100\n",
    "num_epoch = 100\n",
    "\n",
    "# make a sequential model\n",
    "model = Sequential()\n",
    "\n",
    "# add 1-layer cnn\n",
    "model.add(Conv1D(40, kernel_size=12, strides=4,\n",
    "          input_shape=(timesteps, data_dim)))\n",
    "model.add(Activation('relu'))\n",
    "model.add(Dropout(0.5))\n",
    "model.add(BatchNormalization())\n",
    "model.add(MaxPooling1D(pool_size=4, strides=4))\n",
    "\n",
    "\n",
    "# add 2-layer lstm\n",
    "model.add(LSTM(30, return_sequences=True, stateful=False))\n",
    "model.add(Dropout(0.5))\n",
    "model.add(BatchNormalization())\n",
    "model.add(LSTM(20, return_sequences=True, stateful=False))\n",
    "model.add(Dropout(0.5))\n",
    "model.add(BatchNormalization())\n",
    "model.add(Flatten())\n",
    "model.add(Dense(num_classes, activation='softmax'))\n",
    "\n",
    "# set loss function and optimizer\n",
    "model.compile(loss='categorical_crossentropy',\n",
    "              optimizer='adam',\n",
    "              metrics=['accuracy'])"
   ]
  },
  {
   "cell_type": "code",
   "execution_count": 6,
   "metadata": {},
   "outputs": [
    {
     "name": "stdout",
     "output_type": "stream",
     "text": [
      "Train on 2358 samples, validate on 100 samples\n",
      "Epoch 1/100\n",
      "2358/2358 [==============================] - 6s 2ms/step - loss: 1.8368 - acc: 0.2829 - val_loss: 1.4178 - val_acc: 0.2900\n",
      "Epoch 2/100\n",
      "2358/2358 [==============================] - 4s 2ms/step - loss: 1.6181 - acc: 0.3210 - val_loss: 1.3884 - val_acc: 0.3300\n",
      "Epoch 3/100\n",
      "2358/2358 [==============================] - 4s 2ms/step - loss: 1.5852 - acc: 0.3308 - val_loss: 1.3302 - val_acc: 0.3500\n",
      "Epoch 4/100\n",
      "2358/2358 [==============================] - 4s 2ms/step - loss: 1.4907 - acc: 0.3584 - val_loss: 1.2796 - val_acc: 0.3800\n",
      "Epoch 5/100\n",
      "2358/2358 [==============================] - 4s 2ms/step - loss: 1.4308 - acc: 0.3762 - val_loss: 1.2361 - val_acc: 0.4700\n",
      "Epoch 6/100\n",
      "2358/2358 [==============================] - 4s 2ms/step - loss: 1.3928 - acc: 0.3991 - val_loss: 1.1804 - val_acc: 0.5800\n",
      "Epoch 7/100\n",
      "2358/2358 [==============================] - 4s 2ms/step - loss: 1.3531 - acc: 0.4084 - val_loss: 1.1677 - val_acc: 0.5200\n",
      "Epoch 8/100\n",
      "2358/2358 [==============================] - 4s 2ms/step - loss: 1.2568 - acc: 0.4584 - val_loss: 1.1893 - val_acc: 0.5400\n",
      "Epoch 9/100\n",
      "2358/2358 [==============================] - 4s 2ms/step - loss: 1.2419 - acc: 0.4644 - val_loss: 1.1960 - val_acc: 0.5000\n",
      "Epoch 10/100\n",
      "2358/2358 [==============================] - 4s 2ms/step - loss: 1.2057 - acc: 0.4890 - val_loss: 1.1899 - val_acc: 0.5200\n",
      "Epoch 11/100\n",
      "2358/2358 [==============================] - 4s 2ms/step - loss: 1.1786 - acc: 0.4966 - val_loss: 1.2148 - val_acc: 0.5000\n",
      "Epoch 12/100\n",
      "2358/2358 [==============================] - 4s 2ms/step - loss: 1.1468 - acc: 0.5119 - val_loss: 1.2079 - val_acc: 0.5700\n",
      "Epoch 13/100\n",
      "2358/2358 [==============================] - 4s 2ms/step - loss: 1.1339 - acc: 0.5242 - val_loss: 1.2810 - val_acc: 0.5000\n",
      "Epoch 14/100\n",
      "2358/2358 [==============================] - 4s 2ms/step - loss: 1.1042 - acc: 0.5327 - val_loss: 1.2707 - val_acc: 0.4700\n",
      "Epoch 15/100\n",
      "2358/2358 [==============================] - 4s 2ms/step - loss: 1.0938 - acc: 0.5394 - val_loss: 1.1344 - val_acc: 0.5400\n",
      "Epoch 16/100\n",
      "2358/2358 [==============================] - 5s 2ms/step - loss: 1.0701 - acc: 0.5424 - val_loss: 1.2102 - val_acc: 0.4800\n",
      "Epoch 17/100\n",
      "2358/2358 [==============================] - 5s 2ms/step - loss: 1.0712 - acc: 0.5573 - val_loss: 1.1305 - val_acc: 0.4900\n",
      "Epoch 18/100\n",
      "2358/2358 [==============================] - 5s 2ms/step - loss: 1.0463 - acc: 0.5611 - val_loss: 1.1270 - val_acc: 0.5500\n",
      "Epoch 19/100\n",
      "2358/2358 [==============================] - 5s 2ms/step - loss: 1.0143 - acc: 0.5831 - val_loss: 1.0254 - val_acc: 0.5700\n",
      "Epoch 20/100\n",
      "2358/2358 [==============================] - 5s 2ms/step - loss: 1.0163 - acc: 0.5827 - val_loss: 1.1080 - val_acc: 0.5300\n",
      "Epoch 21/100\n",
      "2358/2358 [==============================] - 5s 2ms/step - loss: 0.9932 - acc: 0.5916 - val_loss: 1.0930 - val_acc: 0.5000\n",
      "Epoch 22/100\n",
      "2358/2358 [==============================] - 5s 2ms/step - loss: 0.9800 - acc: 0.6052 - val_loss: 1.0762 - val_acc: 0.5100\n",
      "Epoch 23/100\n",
      "2358/2358 [==============================] - 5s 2ms/step - loss: 0.9705 - acc: 0.6031 - val_loss: 1.0368 - val_acc: 0.5300\n",
      "Epoch 24/100\n",
      "2358/2358 [==============================] - 4s 2ms/step - loss: 0.9718 - acc: 0.6031 - val_loss: 1.1125 - val_acc: 0.4800\n",
      "Epoch 25/100\n",
      "2358/2358 [==============================] - 5s 2ms/step - loss: 0.9332 - acc: 0.6243 - val_loss: 1.0399 - val_acc: 0.5700\n",
      "Epoch 26/100\n",
      "2358/2358 [==============================] - 5s 2ms/step - loss: 0.9331 - acc: 0.6132 - val_loss: 1.0719 - val_acc: 0.5200\n",
      "Epoch 27/100\n",
      "2358/2358 [==============================] - 5s 2ms/step - loss: 0.9200 - acc: 0.6404 - val_loss: 1.0007 - val_acc: 0.5600\n",
      "Epoch 28/100\n",
      "2358/2358 [==============================] - 5s 2ms/step - loss: 0.9063 - acc: 0.6370 - val_loss: 1.1579 - val_acc: 0.5200\n",
      "Epoch 29/100\n",
      "2358/2358 [==============================] - 5s 2ms/step - loss: 0.8777 - acc: 0.6506 - val_loss: 1.0531 - val_acc: 0.5700\n",
      "Epoch 30/100\n",
      "2358/2358 [==============================] - 5s 2ms/step - loss: 0.8615 - acc: 0.6480 - val_loss: 1.1353 - val_acc: 0.4900\n",
      "Epoch 31/100\n",
      "2358/2358 [==============================] - 5s 2ms/step - loss: 0.8742 - acc: 0.6531 - val_loss: 1.0932 - val_acc: 0.5100\n",
      "Epoch 32/100\n",
      "2358/2358 [==============================] - 5s 2ms/step - loss: 0.8475 - acc: 0.6527 - val_loss: 1.0303 - val_acc: 0.5700\n",
      "Epoch 33/100\n",
      "2358/2358 [==============================] - 4s 2ms/step - loss: 0.8477 - acc: 0.6616 - val_loss: 1.0806 - val_acc: 0.5600\n",
      "Epoch 34/100\n",
      "2358/2358 [==============================] - 4s 2ms/step - loss: 0.8370 - acc: 0.6675 - val_loss: 1.0790 - val_acc: 0.5600\n",
      "Epoch 35/100\n",
      "2358/2358 [==============================] - 5s 2ms/step - loss: 0.8216 - acc: 0.6713 - val_loss: 0.9324 - val_acc: 0.6100\n",
      "Epoch 36/100\n",
      "2358/2358 [==============================] - 5s 2ms/step - loss: 0.8003 - acc: 0.6798 - val_loss: 0.9980 - val_acc: 0.5600\n",
      "Epoch 37/100\n",
      "2358/2358 [==============================] - 5s 2ms/step - loss: 0.8139 - acc: 0.6824 - val_loss: 1.0261 - val_acc: 0.5400\n",
      "Epoch 38/100\n",
      "2358/2358 [==============================] - 5s 2ms/step - loss: 0.8226 - acc: 0.6730 - val_loss: 1.1618 - val_acc: 0.5300\n",
      "Epoch 39/100\n",
      "2358/2358 [==============================] - 5s 2ms/step - loss: 0.7866 - acc: 0.6883 - val_loss: 0.9638 - val_acc: 0.5700\n",
      "Epoch 40/100\n",
      "2358/2358 [==============================] - 5s 2ms/step - loss: 0.7641 - acc: 0.7014 - val_loss: 1.0594 - val_acc: 0.5700\n",
      "Epoch 41/100\n",
      "2358/2358 [==============================] - 5s 2ms/step - loss: 0.7539 - acc: 0.7023 - val_loss: 1.0329 - val_acc: 0.5600\n",
      "Epoch 42/100\n",
      "2358/2358 [==============================] - 5s 2ms/step - loss: 0.7735 - acc: 0.6925 - val_loss: 1.0249 - val_acc: 0.5800\n",
      "Epoch 43/100\n",
      "2358/2358 [==============================] - 4s 2ms/step - loss: 0.7646 - acc: 0.6976 - val_loss: 0.9128 - val_acc: 0.6100\n",
      "Epoch 44/100\n",
      "2358/2358 [==============================] - 5s 2ms/step - loss: 0.7495 - acc: 0.7095 - val_loss: 0.9709 - val_acc: 0.5700\n",
      "Epoch 45/100\n",
      "2358/2358 [==============================] - 5s 2ms/step - loss: 0.7234 - acc: 0.7201 - val_loss: 0.9249 - val_acc: 0.6000\n",
      "Epoch 46/100\n",
      "2358/2358 [==============================] - 5s 2ms/step - loss: 0.7073 - acc: 0.7226 - val_loss: 1.1030 - val_acc: 0.5900\n",
      "Epoch 47/100\n",
      "2358/2358 [==============================] - 5s 2ms/step - loss: 0.7159 - acc: 0.7171 - val_loss: 1.0390 - val_acc: 0.5800\n",
      "Epoch 48/100\n",
      "2358/2358 [==============================] - 5s 2ms/step - loss: 0.7089 - acc: 0.7154 - val_loss: 0.9557 - val_acc: 0.5800\n",
      "Epoch 49/100\n",
      "2358/2358 [==============================] - 5s 2ms/step - loss: 0.6889 - acc: 0.7337 - val_loss: 0.9403 - val_acc: 0.5700\n",
      "Epoch 50/100\n",
      "2358/2358 [==============================] - 5s 2ms/step - loss: 0.7161 - acc: 0.7214 - val_loss: 0.9065 - val_acc: 0.6200\n",
      "Epoch 51/100\n",
      "2358/2358 [==============================] - 5s 2ms/step - loss: 0.6790 - acc: 0.7265 - val_loss: 0.8579 - val_acc: 0.6300\n",
      "Epoch 52/100\n",
      "2358/2358 [==============================] - 4s 2ms/step - loss: 0.6904 - acc: 0.7218 - val_loss: 0.9031 - val_acc: 0.6300\n",
      "Epoch 53/100\n",
      "2358/2358 [==============================] - 4s 2ms/step - loss: 0.6493 - acc: 0.7489 - val_loss: 1.0171 - val_acc: 0.6000\n",
      "Epoch 54/100\n",
      "2358/2358 [==============================] - 5s 2ms/step - loss: 0.6632 - acc: 0.7417 - val_loss: 0.9311 - val_acc: 0.5900\n",
      "Epoch 55/100\n",
      "2358/2358 [==============================] - 5s 2ms/step - loss: 0.6458 - acc: 0.7557 - val_loss: 0.9155 - val_acc: 0.6100\n",
      "Epoch 56/100\n",
      "2358/2358 [==============================] - 5s 2ms/step - loss: 0.6344 - acc: 0.7472 - val_loss: 0.9308 - val_acc: 0.6200\n",
      "Epoch 57/100\n",
      "2358/2358 [==============================] - 5s 2ms/step - loss: 0.6530 - acc: 0.7426 - val_loss: 0.8927 - val_acc: 0.6500\n",
      "Epoch 58/100\n",
      "2358/2358 [==============================] - 5s 2ms/step - loss: 0.6619 - acc: 0.7451 - val_loss: 0.8741 - val_acc: 0.6400\n",
      "Epoch 59/100\n",
      "2358/2358 [==============================] - 5s 2ms/step - loss: 0.6475 - acc: 0.7545 - val_loss: 0.8507 - val_acc: 0.6400\n",
      "Epoch 60/100\n",
      "2358/2358 [==============================] - 5s 2ms/step - loss: 0.6212 - acc: 0.7655 - val_loss: 0.8751 - val_acc: 0.6200\n"
     ]
    },
    {
     "name": "stdout",
     "output_type": "stream",
     "text": [
      "Epoch 61/100\n",
      "2358/2358 [==============================] - 5s 2ms/step - loss: 0.6101 - acc: 0.7583 - val_loss: 0.9924 - val_acc: 0.5900\n",
      "Epoch 62/100\n",
      "2358/2358 [==============================] - 4s 2ms/step - loss: 0.6245 - acc: 0.7515 - val_loss: 0.8705 - val_acc: 0.6500\n",
      "Epoch 63/100\n",
      "2358/2358 [==============================] - 4s 2ms/step - loss: 0.5959 - acc: 0.7710 - val_loss: 0.8827 - val_acc: 0.6400\n",
      "Epoch 64/100\n",
      "2358/2358 [==============================] - 5s 2ms/step - loss: 0.6057 - acc: 0.7646 - val_loss: 0.8352 - val_acc: 0.6500\n",
      "Epoch 65/100\n",
      "2358/2358 [==============================] - 5s 2ms/step - loss: 0.6172 - acc: 0.7684 - val_loss: 0.7862 - val_acc: 0.7100\n",
      "Epoch 66/100\n",
      "2358/2358 [==============================] - 5s 2ms/step - loss: 0.5887 - acc: 0.7735 - val_loss: 0.9267 - val_acc: 0.6300\n",
      "Epoch 67/100\n",
      "2358/2358 [==============================] - 5s 2ms/step - loss: 0.5760 - acc: 0.7676 - val_loss: 0.8292 - val_acc: 0.6700\n",
      "Epoch 68/100\n",
      "2358/2358 [==============================] - 5s 2ms/step - loss: 0.5745 - acc: 0.7863 - val_loss: 0.8688 - val_acc: 0.6700\n",
      "Epoch 69/100\n",
      "2358/2358 [==============================] - 5s 2ms/step - loss: 0.5732 - acc: 0.7816 - val_loss: 0.8197 - val_acc: 0.7000\n",
      "Epoch 70/100\n",
      "2358/2358 [==============================] - 5s 2ms/step - loss: 0.5787 - acc: 0.7757 - val_loss: 0.8013 - val_acc: 0.6900\n",
      "Epoch 71/100\n",
      "2358/2358 [==============================] - 5s 2ms/step - loss: 0.5716 - acc: 0.7774 - val_loss: 1.0155 - val_acc: 0.6100\n",
      "Epoch 72/100\n",
      "2358/2358 [==============================] - 4s 2ms/step - loss: 0.5583 - acc: 0.7846 - val_loss: 0.8474 - val_acc: 0.6700\n",
      "Epoch 73/100\n",
      "2358/2358 [==============================] - 5s 2ms/step - loss: 0.5546 - acc: 0.7854 - val_loss: 0.8671 - val_acc: 0.6900\n",
      "Epoch 74/100\n",
      "2358/2358 [==============================] - 5s 2ms/step - loss: 0.5702 - acc: 0.7757 - val_loss: 0.8783 - val_acc: 0.6500\n",
      "Epoch 75/100\n",
      "2358/2358 [==============================] - 5s 2ms/step - loss: 0.5665 - acc: 0.7820 - val_loss: 0.8417 - val_acc: 0.6700\n",
      "Epoch 76/100\n",
      "2358/2358 [==============================] - 5s 2ms/step - loss: 0.5431 - acc: 0.7935 - val_loss: 1.0238 - val_acc: 0.5900\n",
      "Epoch 77/100\n",
      "2358/2358 [==============================] - 5s 2ms/step - loss: 0.5321 - acc: 0.7918 - val_loss: 0.9409 - val_acc: 0.6400\n",
      "Epoch 78/100\n",
      "2358/2358 [==============================] - 5s 2ms/step - loss: 0.5398 - acc: 0.7892 - val_loss: 0.8096 - val_acc: 0.6800\n",
      "Epoch 79/100\n",
      "2358/2358 [==============================] - 5s 2ms/step - loss: 0.5131 - acc: 0.8015 - val_loss: 0.9877 - val_acc: 0.6000\n",
      "Epoch 80/100\n",
      "2358/2358 [==============================] - 5s 2ms/step - loss: 0.5080 - acc: 0.8053 - val_loss: 0.7822 - val_acc: 0.7100\n",
      "Epoch 81/100\n",
      "2358/2358 [==============================] - 5s 2ms/step - loss: 0.4922 - acc: 0.8070 - val_loss: 0.8385 - val_acc: 0.6500\n",
      "Epoch 82/100\n",
      "2358/2358 [==============================] - 4s 2ms/step - loss: 0.5034 - acc: 0.8100 - val_loss: 0.9606 - val_acc: 0.6700\n",
      "Epoch 83/100\n",
      "2358/2358 [==============================] - 5s 2ms/step - loss: 0.4956 - acc: 0.8053 - val_loss: 0.9867 - val_acc: 0.6200\n",
      "Epoch 84/100\n",
      "2358/2358 [==============================] - 5s 2ms/step - loss: 0.4926 - acc: 0.8092 - val_loss: 0.8239 - val_acc: 0.6800\n",
      "Epoch 85/100\n",
      "2358/2358 [==============================] - 5s 2ms/step - loss: 0.4996 - acc: 0.8100 - val_loss: 0.9186 - val_acc: 0.6500\n",
      "Epoch 86/100\n",
      "2358/2358 [==============================] - 6s 2ms/step - loss: 0.4700 - acc: 0.8240 - val_loss: 0.9150 - val_acc: 0.6700\n",
      "Epoch 87/100\n",
      "2358/2358 [==============================] - 6s 2ms/step - loss: 0.4804 - acc: 0.8117 - val_loss: 0.9908 - val_acc: 0.6800\n",
      "Epoch 88/100\n",
      "2358/2358 [==============================] - 5s 2ms/step - loss: 0.4825 - acc: 0.8062 - val_loss: 0.8225 - val_acc: 0.7000\n",
      "Epoch 89/100\n",
      "2358/2358 [==============================] - 5s 2ms/step - loss: 0.4609 - acc: 0.8223 - val_loss: 0.8132 - val_acc: 0.7000\n",
      "Epoch 90/100\n",
      "2358/2358 [==============================] - 5s 2ms/step - loss: 0.4895 - acc: 0.8096 - val_loss: 1.0334 - val_acc: 0.6600\n",
      "Epoch 91/100\n",
      "2358/2358 [==============================] - 4s 2ms/step - loss: 0.4633 - acc: 0.8181 - val_loss: 0.8842 - val_acc: 0.6600\n",
      "Epoch 92/100\n",
      "2358/2358 [==============================] - 4s 2ms/step - loss: 0.4572 - acc: 0.8249 - val_loss: 0.8961 - val_acc: 0.6300\n",
      "Epoch 93/100\n",
      "2358/2358 [==============================] - 4s 2ms/step - loss: 0.4755 - acc: 0.8151 - val_loss: 0.8938 - val_acc: 0.6600\n",
      "Epoch 94/100\n",
      "2358/2358 [==============================] - 4s 2ms/step - loss: 0.4586 - acc: 0.8278 - val_loss: 0.8499 - val_acc: 0.6400\n",
      "Epoch 95/100\n",
      "2358/2358 [==============================] - 4s 2ms/step - loss: 0.4549 - acc: 0.8265 - val_loss: 0.9002 - val_acc: 0.6400\n",
      "Epoch 96/100\n",
      "2358/2358 [==============================] - 4s 2ms/step - loss: 0.4486 - acc: 0.8249 - val_loss: 0.8155 - val_acc: 0.6600\n",
      "Epoch 97/100\n",
      "2358/2358 [==============================] - 4s 2ms/step - loss: 0.4362 - acc: 0.8278 - val_loss: 1.0132 - val_acc: 0.6300\n",
      "Epoch 98/100\n",
      "2358/2358 [==============================] - 4s 2ms/step - loss: 0.4479 - acc: 0.8376 - val_loss: 1.1372 - val_acc: 0.5800\n",
      "Epoch 99/100\n",
      "2358/2358 [==============================] - 4s 2ms/step - loss: 0.4694 - acc: 0.8236 - val_loss: 1.0036 - val_acc: 0.6000\n",
      "Epoch 100/100\n",
      "2358/2358 [==============================] - 4s 2ms/step - loss: 0.4748 - acc: 0.8159 - val_loss: 0.9664 - val_acc: 0.6300\n"
     ]
    }
   ],
   "source": [
    "# train the data with validation\n",
    "history = model.fit(X_train, y_train,\n",
    "                    batch_size=batch_size, \n",
    "                    epochs=num_epoch, \n",
    "                    shuffle=False,\n",
    "                    validation_data=(X_val, y_val))"
   ]
  },
  {
   "cell_type": "code",
   "execution_count": 7,
   "metadata": {},
   "outputs": [
    {
     "name": "stdout",
     "output_type": "stream",
     "text": [
      "dict_keys(['val_loss', 'val_acc', 'loss', 'acc'])\n"
     ]
    },
    {
     "data": {
      "image/png": "[encoded data removed]",
      "text/plain": [
       "<matplotlib.figure.Figure at 0x7fcdec549cc0>"
      ]
     },
     "metadata": {},
     "output_type": "display_data"
    },
    {
     "data": {
      "image/png": "[encoded data removed]",
      "text/plain": [
       "<matplotlib.figure.Figure at 0x7fce3f56abe0>"
      ]
     },
     "metadata": {},
     "output_type": "display_data"
    }
   ],
   "source": [
    "# list all data in history\n",
    "print(history.history.keys())\n",
    "\n",
    "# summarize history for accuracy\n",
    "plt.plot(history.history['acc'])\n",
    "plt.plot(history.history['val_acc'])\n",
    "plt.title('model accuracy')\n",
    "plt.ylabel('accuracy')\n",
    "plt.xlabel('epoch')\n",
    "plt.legend(['train', 'val'], loc='upper left')\n",
    "plt.show()\n",
    "\n",
    "# summarize history for loss\n",
    "plt.plot(history.history['loss'],'o')\n",
    "plt.plot(history.history['val_loss'],'o')\n",
    "plt.title('model loss')\n",
    "plt.ylabel('loss')\n",
    "plt.xlabel('epoch')\n",
    "plt.legend(['train', 'val'], loc='upper left')\n",
    "plt.show()"
   ]
  },
  {
   "cell_type": "code",
   "execution_count": 8,
   "metadata": {},
   "outputs": [
    {
     "name": "stdout",
     "output_type": "stream",
     "text": [
      "\r",
      "100/100 [==============================] - 0s 502us/step\n"
     ]
    },
    {
     "data": {
      "text/plain": [
       "[0.8794256448745728, 0.6800000071525574]"
      ]
     },
     "execution_count": 8,
     "metadata": {},
     "output_type": "execute_result"
    }
   ],
   "source": [
    "# test set\n",
    "model.evaluate(X_test,y_test,batch_size=N_test)"
   ]
  },
  {
   "cell_type": "code",
   "execution_count": null,
   "metadata": {},
   "outputs": [],
   "source": []
  }
 ],
 "metadata": {
  "kernelspec": {
   "display_name": "Python 3",
   "language": "python",
   "name": "python3"
  },
  "language_info": {
   "codemirror_mode": {
    "name": "ipython",
    "version": 3
   },
   "file_extension": ".py",
   "mimetype": "text/x-python",
   "name": "python",
   "nbconvert_exporter": "python",
   "pygments_lexer": "ipython3",
   "version": "3.6.3"
  }
 },
 "nbformat": 4,
 "nbformat_minor": 2
}
