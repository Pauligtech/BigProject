{
 "cells": [
  {
   "cell_type": "code",
   "execution_count": 40,
   "metadata": {},
   "outputs": [],
   "source": [
    "from keras.models import Sequential\n",
    "from keras.layers import LSTM, Dense, Dropout, TimeDistributed, BatchNormalization\n",
    "import numpy as np\n",
    "import h5py\n",
    "import matplotlib.pyplot as plt\n",
    "from data_utils import get_data\n",
    "from sklearn import preprocessing\n"
   ]
  },
  {
   "cell_type": "code",
   "execution_count": 41,
   "metadata": {
    "scrolled": true
   },
   "outputs": [
    {
     "name": "stdout",
     "output_type": "stream",
     "text": [
      "X_train: (2458, 1000, 22) \n",
      "y_train: (2458,) \n",
      "X_val: (100, 1000, 22) \n",
      "y_val: (100,) \n",
      "X_test: (0, 1000, 22) \n",
      "y_test: (0,) \n"
     ]
    }
   ],
   "source": [
    "# Load data from all .mat files, combine them, eliminate EOG signals, shuffle and \n",
    "# seperate training data, validation data and testing data.\n",
    "# Also do mean subtraction on x.\n",
    "\n",
    "data = get_data('../project_datasets',num_validation=100, num_test=0, subtract_mean=True, subtract_axis=1,\n",
    "                transpose=True)\n",
    "for k in data.keys():\n",
    "    print('{}: {} '.format(k, data[k].shape))"
   ]
  },
  {
   "cell_type": "code",
   "execution_count": 42,
   "metadata": {},
   "outputs": [
    {
     "name": "stdout",
     "output_type": "stream",
     "text": [
      "(2458, 150, 22)\n",
      "(100, 150, 22)\n"
     ]
    }
   ],
   "source": [
    "# substract data from list\n",
    "range_select = 150\n",
    "X_train = data.get('X_train')[:, :range_select, :]\n",
    "y_train = data.get('y_train')\n",
    "X_val = data.get('X_val')[:, :range_select, :]\n",
    "y_val = data.get('y_val')\n",
    "#X_test = data.get('X_test')\n",
    "#y_test = data.get('y_test')\n",
    "\n",
    "# get data dimension\n",
    "N_train, T_train, C_train = X_train.shape\n",
    "N_val, T_val, C_val = X_val.shape\n",
    "#N_test, T_test, C_test = data.get('X_test').shape\n",
    "\n",
    "# add dummy zeros for y classification\n",
    "lb = preprocessing.LabelBinarizer()\n",
    "lb.fit([0, 1, 2, 3,])\n",
    "lb.classes_\n",
    "y_train = lb.transform(y_train)\n",
    "y_val = lb.transform(y_val)\n",
    "#y_test = lb.transform(y_test)\n",
    "\n",
    "print(X_train.shape)\n",
    "print(X_val.shape)"
   ]
  },
  {
   "cell_type": "code",
   "execution_count": 43,
   "metadata": {},
   "outputs": [],
   "source": [
    "# # normalize data across the time sequence dimension only\n",
    "# scaler = preprocessing.MinMaxScaler()\n",
    "# for i in range(N_train):\n",
    "#     scaler.fit(X_train[i,:,:])\n",
    "#     X_train[i,:,:] = scaler.transform(X_train[i,:,:])\n",
    "    \n",
    "# for i in range(N_val):\n",
    "#     scaler.fit(X_val[i,:,:])\n",
    "#     X_val[i,:,:] = scaler.transform(X_val[i,:,:])"
   ]
  },
  {
   "cell_type": "code",
   "execution_count": 44,
   "metadata": {},
   "outputs": [
    {
     "name": "stdout",
     "output_type": "stream",
     "text": [
      "X_train:  (2458, 150, 22)\n",
      "X_val:  (100, 150, 22)\n"
     ]
    }
   ],
   "source": [
    "# construct X_total and y_total based on sub-sampling of X_train and y_train\n",
    "\n",
    "# take sub-sampling on the time sequence to reduce dimension for RNN\n",
    "sampling = 1\n",
    "\n",
    "X_train = X_train.reshape(N_train,int(T_train/sampling), sampling, C_train)[:,:,0,:]\n",
    "X_val = X_val.reshape(N_val,int(T_val/sampling), sampling, C_val)[:,:,0,:]\n",
    "    \n",
    "# get new data dimension\n",
    "N_train, T_train, C_train = X_train.shape\n",
    "N_val, T_val, C_val = X_val.shape\n",
    "\n",
    "print('X_train: ', X_train.shape)\n",
    "print('X_val: ', X_val.shape)"
   ]
  },
  {
   "cell_type": "code",
   "execution_count": 45,
   "metadata": {},
   "outputs": [],
   "source": [
    "# Expected input batch shape: (batch_size, timesteps, data_dim)\n",
    "# Note that we have to provide the full batch_input_shape since the network is stateful.\n",
    "# the sample of index i in batch k is the follow-up for the sample i in batch k-1.\n",
    "\n",
    "# perhaps should try masking layer\n",
    "\n",
    "data_dim = C_train\n",
    "timesteps = T_train\n",
    "num_classes = 4\n",
    "batch_size = 100\n",
    "num_epoch = 50\n",
    "\n",
    "model = Sequential()\n",
    "model.add(LSTM(30, return_sequences=True, stateful=False,\n",
    "          batch_input_shape=(batch_size, timesteps, data_dim)))\n",
    "model.add(Dropout(0.5))\n",
    "model.add(BatchNormalization())\n",
    "model.add(LSTM(30, return_sequences=True, stateful=False))\n",
    "model.add(Dropout(0.5))\n",
    "model.add(BatchNormalization())\n",
    "model.add(LSTM(30, stateful=False))\n",
    "model.add(Dropout(0.5))\n",
    "# model.add(TimeDistributed(Dense(T_train)))\n",
    "model.add(Dense(50,activation='softmax'))\n",
    "model.add(Dense(num_classes, activation='softmax'))\n",
    "\n",
    "model.compile(loss='categorical_crossentropy',\n",
    "              optimizer='adam',\n",
    "              metrics=['accuracy'])"
   ]
  },
  {
   "cell_type": "code",
   "execution_count": 46,
   "metadata": {},
   "outputs": [
    {
     "name": "stdout",
     "output_type": "stream",
     "text": [
      "Train on 2400 samples, validate on 100 samples\n",
      "Epoch 1/50\n",
      "2400/2400 [==============================] - 8s 3ms/step - loss: 1.3864 - acc: 0.2517 - val_loss: 1.3868 - val_acc: 0.3000\n",
      "Epoch 2/50\n",
      "2400/2400 [==============================] - 7s 3ms/step - loss: 1.3850 - acc: 0.2750 - val_loss: 1.3879 - val_acc: 0.2400\n",
      "Epoch 3/50\n",
      "2400/2400 [==============================] - 6s 3ms/step - loss: 1.3832 - acc: 0.3100 - val_loss: 1.3899 - val_acc: 0.1500\n",
      "Epoch 4/50\n",
      "2400/2400 [==============================] - 7s 3ms/step - loss: 1.3803 - acc: 0.3254 - val_loss: 1.3936 - val_acc: 0.2000\n",
      "Epoch 5/50\n",
      "2400/2400 [==============================] - 6s 3ms/step - loss: 1.3758 - acc: 0.3379 - val_loss: 1.3963 - val_acc: 0.2500\n",
      "Epoch 6/50\n",
      "2400/2400 [==============================] - 6s 3ms/step - loss: 1.3690 - acc: 0.3375 - val_loss: 1.3867 - val_acc: 0.2800\n",
      "Epoch 7/50\n",
      "2400/2400 [==============================] - 6s 3ms/step - loss: 1.3597 - acc: 0.3442 - val_loss: 1.3564 - val_acc: 0.3400\n",
      "Epoch 8/50\n",
      "2400/2400 [==============================] - 6s 3ms/step - loss: 1.3487 - acc: 0.3904 - val_loss: 1.3557 - val_acc: 0.3600\n",
      "Epoch 9/50\n",
      "2400/2400 [==============================] - 6s 3ms/step - loss: 1.3409 - acc: 0.3804 - val_loss: 1.3659 - val_acc: 0.3300\n",
      "Epoch 10/50\n",
      "2400/2400 [==============================] - 6s 3ms/step - loss: 1.3380 - acc: 0.3596 - val_loss: 1.3731 - val_acc: 0.3200\n",
      "Epoch 11/50\n",
      "2400/2400 [==============================] - 6s 3ms/step - loss: 1.3340 - acc: 0.3796 - val_loss: 1.3192 - val_acc: 0.4200\n",
      "Epoch 12/50\n",
      "2400/2400 [==============================] - 6s 3ms/step - loss: 1.3311 - acc: 0.3808 - val_loss: 1.3757 - val_acc: 0.3200\n",
      "Epoch 13/50\n",
      "2400/2400 [==============================] - 6s 3ms/step - loss: 1.3236 - acc: 0.3858 - val_loss: 1.3423 - val_acc: 0.4000\n",
      "Epoch 14/50\n",
      "2400/2400 [==============================] - 6s 3ms/step - loss: 1.3141 - acc: 0.3933 - val_loss: 1.3482 - val_acc: 0.3500\n",
      "Epoch 15/50\n",
      "2400/2400 [==============================] - 6s 3ms/step - loss: 1.2988 - acc: 0.4196 - val_loss: 1.3432 - val_acc: 0.3700\n",
      "Epoch 16/50\n",
      "2400/2400 [==============================] - 6s 3ms/step - loss: 1.3071 - acc: 0.4004 - val_loss: 1.3241 - val_acc: 0.3600\n",
      "Epoch 17/50\n",
      "2400/2400 [==============================] - 6s 3ms/step - loss: 1.3113 - acc: 0.3983 - val_loss: 1.3496 - val_acc: 0.3800\n",
      "Epoch 18/50\n",
      "2400/2400 [==============================] - 6s 3ms/step - loss: 1.3013 - acc: 0.4067 - val_loss: 1.3477 - val_acc: 0.3500\n",
      "Epoch 19/50\n",
      "2400/2400 [==============================] - 6s 3ms/step - loss: 1.2938 - acc: 0.4229 - val_loss: 1.3653 - val_acc: 0.3700\n",
      "Epoch 20/50\n",
      "2400/2400 [==============================] - 6s 3ms/step - loss: 1.3006 - acc: 0.4154 - val_loss: 1.3356 - val_acc: 0.3900\n",
      "Epoch 21/50\n",
      "2400/2400 [==============================] - 6s 3ms/step - loss: 1.2878 - acc: 0.4312 - val_loss: 1.3422 - val_acc: 0.4100\n",
      "Epoch 22/50\n",
      "2400/2400 [==============================] - 6s 3ms/step - loss: 1.2931 - acc: 0.4242 - val_loss: 1.3284 - val_acc: 0.3900\n",
      "Epoch 23/50\n",
      "2400/2400 [==============================] - 6s 3ms/step - loss: 1.2878 - acc: 0.4262 - val_loss: 1.3484 - val_acc: 0.3900\n",
      "Epoch 24/50\n",
      "2400/2400 [==============================] - 7s 3ms/step - loss: 1.2829 - acc: 0.4379 - val_loss: 1.4200 - val_acc: 0.3300\n",
      "Epoch 25/50\n",
      "2400/2400 [==============================] - 6s 3ms/step - loss: 1.2897 - acc: 0.4250 - val_loss: 1.3572 - val_acc: 0.3800\n",
      "Epoch 26/50\n",
      "2400/2400 [==============================] - 6s 3ms/step - loss: 1.2863 - acc: 0.4254 - val_loss: 1.3118 - val_acc: 0.3900\n",
      "Epoch 27/50\n",
      "2400/2400 [==============================] - 7s 3ms/step - loss: 1.2775 - acc: 0.4417 - val_loss: 1.3309 - val_acc: 0.3600\n",
      "Epoch 28/50\n",
      "2400/2400 [==============================] - 6s 3ms/step - loss: 1.2709 - acc: 0.4508 - val_loss: 1.3076 - val_acc: 0.4100\n",
      "Epoch 29/50\n",
      "2400/2400 [==============================] - 7s 3ms/step - loss: 1.2610 - acc: 0.4625 - val_loss: 1.3120 - val_acc: 0.4000\n",
      "Epoch 30/50\n",
      "2400/2400 [==============================] - 6s 3ms/step - loss: 1.2639 - acc: 0.4463 - val_loss: 1.3699 - val_acc: 0.4100\n",
      "Epoch 31/50\n",
      "2400/2400 [==============================] - 6s 3ms/step - loss: 1.2622 - acc: 0.4475 - val_loss: 1.3642 - val_acc: 0.4100\n",
      "Epoch 32/50\n",
      "2400/2400 [==============================] - 7s 3ms/step - loss: 1.2535 - acc: 0.4642 - val_loss: 1.3500 - val_acc: 0.3600\n",
      "Epoch 33/50\n",
      "2400/2400 [==============================] - 7s 3ms/step - loss: 1.2526 - acc: 0.4625 - val_loss: 1.3323 - val_acc: 0.4400\n",
      "Epoch 34/50\n",
      "2400/2400 [==============================] - 7s 3ms/step - loss: 1.2544 - acc: 0.4579 - val_loss: 1.3734 - val_acc: 0.4000\n",
      "Epoch 35/50\n",
      "2400/2400 [==============================] - 7s 3ms/step - loss: 1.2786 - acc: 0.4396 - val_loss: 1.3798 - val_acc: 0.3800\n",
      "Epoch 36/50\n",
      "2400/2400 [==============================] - 7s 3ms/step - loss: 1.2657 - acc: 0.4521 - val_loss: 1.3759 - val_acc: 0.3800\n",
      "Epoch 37/50\n",
      "2400/2400 [==============================] - 6s 3ms/step - loss: 1.2444 - acc: 0.4721 - val_loss: 1.3237 - val_acc: 0.3800\n",
      "Epoch 38/50\n",
      "2400/2400 [==============================] - 6s 3ms/step - loss: 1.2406 - acc: 0.4679 - val_loss: 1.3323 - val_acc: 0.4000\n",
      "Epoch 39/50\n",
      "2400/2400 [==============================] - 6s 3ms/step - loss: 1.2220 - acc: 0.4925 - val_loss: 1.3251 - val_acc: 0.4100\n",
      "Epoch 40/50\n",
      "2400/2400 [==============================] - 7s 3ms/step - loss: 1.2262 - acc: 0.4825 - val_loss: 1.3372 - val_acc: 0.4200\n",
      "Epoch 41/50\n",
      "2400/2400 [==============================] - 7s 3ms/step - loss: 1.2245 - acc: 0.4887 - val_loss: 1.3427 - val_acc: 0.4100\n",
      "Epoch 42/50\n",
      "2400/2400 [==============================] - 7s 3ms/step - loss: 1.2169 - acc: 0.4925 - val_loss: 1.3084 - val_acc: 0.4400\n",
      "Epoch 43/50\n",
      "2400/2400 [==============================] - 7s 3ms/step - loss: 1.2245 - acc: 0.4854 - val_loss: 1.3437 - val_acc: 0.4600\n",
      "Epoch 44/50\n",
      "2400/2400 [==============================] - 6s 3ms/step - loss: 1.2197 - acc: 0.4912 - val_loss: 1.3619 - val_acc: 0.4500\n",
      "Epoch 45/50\n",
      "2400/2400 [==============================] - 6s 3ms/step - loss: 1.2141 - acc: 0.5012 - val_loss: 1.3354 - val_acc: 0.4400\n",
      "Epoch 46/50\n",
      "2400/2400 [==============================] - 7s 3ms/step - loss: 1.2132 - acc: 0.4871 - val_loss: 1.3454 - val_acc: 0.4500\n",
      "Epoch 47/50\n",
      "2400/2400 [==============================] - 6s 3ms/step - loss: 1.2522 - acc: 0.4675 - val_loss: 1.3494 - val_acc: 0.4100\n",
      "Epoch 48/50\n",
      "2400/2400 [==============================] - 7s 3ms/step - loss: 1.2715 - acc: 0.4404 - val_loss: 1.3859 - val_acc: 0.4300\n",
      "Epoch 49/50\n",
      "2400/2400 [==============================] - 6s 3ms/step - loss: 1.2492 - acc: 0.4579 - val_loss: 1.4135 - val_acc: 0.3700\n",
      "Epoch 50/50\n",
      "2400/2400 [==============================] - 6s 3ms/step - loss: 1.2527 - acc: 0.4592 - val_loss: 1.3649 - val_acc: 0.4000\n"
     ]
    }
   ],
   "source": [
    "# train the data with validation\n",
    "history = model.fit(X_train[0:int(N_train/batch_size)*batch_size, :, :],\n",
    "                    y_train[0:int(N_train/batch_size)*batch_size, :],\n",
    "                    batch_size=batch_size, epochs=num_epoch, shuffle=False,\n",
    "                    validation_data=(X_val, y_val))"
   ]
  },
  {
   "cell_type": "code",
   "execution_count": 47,
   "metadata": {},
   "outputs": [
    {
     "name": "stdout",
     "output_type": "stream",
     "text": [
      "dict_keys(['val_loss', 'val_acc', 'loss', 'acc'])\n"
     ]
    },
    {
     "data": {
      "image/png": "[encoded data removed]",
      "text/plain": [
       "<matplotlib.figure.Figure at 0x7f0530b917f0>"
      ]
     },
     "metadata": {},
     "output_type": "display_data"
    },
    {
     "data": {
      "image/png": "[encoded data removed]",
      "text/plain": [
       "<matplotlib.figure.Figure at 0x7f0530bbcc18>"
      ]
     },
     "metadata": {},
     "output_type": "display_data"
    }
   ],
   "source": [
    "# list all data in history\n",
    "print(history.history.keys())\n",
    "\n",
    "# summarize history for accuracy\n",
    "plt.plot(history.history['acc'])\n",
    "plt.plot(history.history['val_acc'])\n",
    "plt.title('model accuracy')\n",
    "plt.ylabel('accuracy')\n",
    "plt.xlabel('epoch')\n",
    "plt.legend(['train', 'val'], loc='upper left')\n",
    "plt.show()\n",
    "\n",
    "# summarize history for loss\n",
    "plt.plot(history.history['loss'],'o')\n",
    "plt.plot(history.history['val_loss'],'o')\n",
    "plt.title('model loss')\n",
    "plt.ylabel('loss')\n",
    "plt.xlabel('epoch')\n",
    "plt.legend(['train', 'val'], loc='upper left')\n",
    "plt.show()"
   ]
  },
  {
   "cell_type": "code",
   "execution_count": null,
   "metadata": {},
   "outputs": [],
   "source": []
  }
 ],
 "metadata": {
  "kernelspec": {
   "display_name": "Python 3",
   "language": "python",
   "name": "python3"
  },
  "language_info": {
   "codemirror_mode": {
    "name": "ipython",
    "version": 3
   },
   "file_extension": ".py",
   "mimetype": "text/x-python",
   "name": "python",
   "nbconvert_exporter": "python",
   "pygments_lexer": "ipython3",
   "version": "3.6.3"
  }
 },
 "nbformat": 4,
 "nbformat_minor": 2
}
