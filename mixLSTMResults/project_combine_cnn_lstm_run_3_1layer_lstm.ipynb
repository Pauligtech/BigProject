{
 "cells": [
  {
   "cell_type": "markdown",
   "metadata": {},
   "source": [
    "This run has higher dropout, larger size lstm.\n",
    "\n",
    "This run has validation accuracy around 70%+\n",
    "\n",
    "From results shown, high dropout does contribute to regularization. Compared to the first run, validation accuracy doesn't improve, however the training history is less oscillatory."
   ]
  },
  {
   "cell_type": "code",
   "execution_count": 1,
   "metadata": {},
   "outputs": [
    {
     "name": "stderr",
     "output_type": "stream",
     "text": [
      "/mnt/g/Course/2017-2018_4th_year/2018_winter/ECE_239AS/Project/.env4/lib/python3.6/site-packages/h5py/__init__.py:36: FutureWarning: Conversion of the second argument of issubdtype from `float` to `np.floating` is deprecated. In future, it will be treated as `np.float64 == np.dtype(float).type`.\n",
      "  from ._conv import register_converters as _register_converters\n",
      "Using TensorFlow backend.\n"
     ]
    }
   ],
   "source": [
    "from keras.models import Sequential\n",
    "from keras.layers import LSTM, Dense, Dropout, BatchNormalization\n",
    "from keras.layers import Conv1D, MaxPooling1D, Activation, Flatten\n",
    "from keras.utils import to_categorical\n",
    "import numpy as np\n",
    "import h5py\n",
    "import matplotlib.pyplot as plt\n",
    "from data_utils import get_data\n",
    "from sklearn import preprocessing\n"
   ]
  },
  {
   "cell_type": "code",
   "execution_count": 2,
   "metadata": {
    "scrolled": true
   },
   "outputs": [
    {
     "name": "stdout",
     "output_type": "stream",
     "text": [
      "The history saving thread hit an unexpected error (OperationalError('disk I/O error',)).History will not be written to the database.\n",
      "X_train: (2358, 1000, 22) \n",
      "y_train: (2358,) \n",
      "X_val: (100, 1000, 22) \n",
      "y_val: (100,) \n",
      "X_test: (100, 1000, 22) \n",
      "y_test: (100,) \n"
     ]
    }
   ],
   "source": [
    "# Load data from all .mat files, combine them, eliminate EOG signals, shuffle and \n",
    "# seperate training data, validation data and testing data.\n",
    "# Also do mean subtraction on x.\n",
    "\n",
    "data = get_data('../project_datasets',num_validation=100, num_test=100, subtract_mean=True, subtract_axis=1,\n",
    "                transpose=True)\n",
    "for k in data.keys():\n",
    "    print('{}: {} '.format(k, data[k].shape))"
   ]
  },
  {
   "cell_type": "code",
   "execution_count": 3,
   "metadata": {},
   "outputs": [],
   "source": [
    "num_classes = 4\n",
    "\n",
    "# substract data from list\n",
    "X_train = data.get('X_train')\n",
    "y_train = data.get('y_train')\n",
    "X_val = data.get('X_val')\n",
    "y_val = data.get('y_val')\n",
    "X_test = data.get('X_test')\n",
    "y_test = data.get('y_test')\n",
    "\n",
    "# get data dimension\n",
    "N_train, T_train, C_train = data.get('X_train').shape\n",
    "N_val, T_val, C_val = data.get('X_val').shape\n",
    "N_test, T_test, C_test = data.get('X_test').shape\n",
    "\n",
    "# add dummy zeros for y classification, convert class vectors to binary class matrices.\n",
    "y_train = to_categorical(y_train, num_classes)\n",
    "y_val = to_categorical(y_val, num_classes)\n",
    "y_test = to_categorical(y_test, num_classes)"
   ]
  },
  {
   "cell_type": "code",
   "execution_count": 4,
   "metadata": {},
   "outputs": [
    {
     "name": "stdout",
     "output_type": "stream",
     "text": [
      "X_train:  (2358, 1000, 22)\n",
      "y_train:  (2358, 4)\n",
      "X_val:  (100, 1000, 22)\n",
      "y_val:  (100, 4)\n",
      "X_test:  (100, 1000, 22)\n",
      "y_test:  (100, 4)\n"
     ]
    }
   ],
   "source": [
    "# construct X_total and y_total based on sub-sampling of X_train and y_train\n",
    "\n",
    "# take sub-sampling on the time sequence to reduce dimension for RNN\n",
    "sampling = 1\n",
    "\n",
    "X_train = X_train.reshape(N_train,int(T_train/sampling), sampling, C_train)[:,:,0,:]\n",
    "X_val = X_val.reshape(N_val,int(T_val/sampling), sampling, C_val)[:,:,0,:]\n",
    "X_test = X_test.reshape(N_test,int(T_test/sampling), sampling, C_test)[:,:,0,:]\n",
    "\n",
    "# get new data dimension\n",
    "N_train, T_train, C_train = X_train.shape\n",
    "N_val, T_val, C_val = X_val.shape\n",
    "N_test, T_test, C_test = X_test.shape\n",
    "\n",
    "print('X_train: ', X_train.shape)\n",
    "print('y_train: ', y_train.shape)\n",
    "print('X_val: ', X_val.shape)\n",
    "print('y_val: ', y_val.shape)\n",
    "print('X_test: ', X_test.shape)\n",
    "print('y_test: ', y_test.shape)"
   ]
  },
  {
   "cell_type": "code",
   "execution_count": 5,
   "metadata": {},
   "outputs": [
    {
     "name": "stdout",
     "output_type": "stream",
     "text": [
      "WARNING:tensorflow:From /mnt/g/Course/2017-2018_4th_year/2018_winter/ECE_239AS/Project/.env4/lib/python3.6/site-packages/tensorflow/python/util/deprecation.py:497: calling conv1d (from tensorflow.python.ops.nn_ops) with data_format=NHWC is deprecated and will be removed in a future version.\n",
      "Instructions for updating:\n",
      "`NHWC` for data_format is deprecated, use `NWC` instead\n"
     ]
    }
   ],
   "source": [
    "# Expected input batch shape: (batch_size, timesteps, data_dim)\n",
    "# Note that we have to provide the full batch_input_shape since the network is stateful.\n",
    "# the sample of index i in batch k is the follow-up for the sample i in batch k-1.\n",
    "\n",
    "# perhaps should try masking layer\n",
    "\n",
    "data_dim = C_train\n",
    "timesteps = T_train\n",
    "batch_size = 100\n",
    "num_epoch = 100\n",
    "\n",
    "# make a sequential model\n",
    "model = Sequential()\n",
    "\n",
    "# add 1-layer cnn\n",
    "model.add(Conv1D(40, kernel_size=20, strides=4,\n",
    "          input_shape=(timesteps, data_dim)))\n",
    "model.add(Activation('relu'))\n",
    "model.add(Dropout(0.5))\n",
    "model.add(BatchNormalization())\n",
    "model.add(MaxPooling1D(pool_size=4, strides=4))\n",
    "\n",
    "\n",
    "# add 1-layer lstm\n",
    "model.add(LSTM(50, return_sequences=True, stateful=False))\n",
    "model.add(Dropout(0.5))\n",
    "model.add(BatchNormalization())\n",
    "model.add(Flatten())\n",
    "model.add(Dense(num_classes, activation='softmax'))\n",
    "\n",
    "# set loss function and optimizer\n",
    "model.compile(loss='categorical_crossentropy',\n",
    "              optimizer='adam',\n",
    "              metrics=['accuracy'])"
   ]
  },
  {
   "cell_type": "code",
   "execution_count": 6,
   "metadata": {},
   "outputs": [
    {
     "name": "stdout",
     "output_type": "stream",
     "text": [
      "Train on 2358 samples, validate on 100 samples\n",
      "Epoch 1/100\n",
      "2358/2358 [==============================] - 5s 2ms/step - loss: 1.8500 - acc: 0.2846 - val_loss: 1.2870 - val_acc: 0.4000\n",
      "Epoch 2/100\n",
      "2358/2358 [==============================] - 4s 2ms/step - loss: 1.5917 - acc: 0.3617 - val_loss: 1.2537 - val_acc: 0.4200\n",
      "Epoch 3/100\n",
      "2358/2358 [==============================] - 4s 2ms/step - loss: 1.4539 - acc: 0.3885 - val_loss: 1.2151 - val_acc: 0.5100\n",
      "Epoch 4/100\n",
      "2358/2358 [==============================] - 4s 2ms/step - loss: 1.3366 - acc: 0.4534 - val_loss: 1.2183 - val_acc: 0.4900\n",
      "Epoch 5/100\n",
      "2358/2358 [==============================] - 4s 2ms/step - loss: 1.2194 - acc: 0.5131 - val_loss: 1.1781 - val_acc: 0.5000\n",
      "Epoch 6/100\n",
      "2358/2358 [==============================] - 4s 2ms/step - loss: 1.1529 - acc: 0.5314 - val_loss: 1.1582 - val_acc: 0.5500\n",
      "Epoch 7/100\n",
      "2358/2358 [==============================] - 4s 2ms/step - loss: 1.0707 - acc: 0.5505 - val_loss: 1.1878 - val_acc: 0.4900\n",
      "Epoch 8/100\n",
      "2358/2358 [==============================] - 4s 2ms/step - loss: 1.0367 - acc: 0.5810 - val_loss: 1.1471 - val_acc: 0.5300\n",
      "Epoch 9/100\n",
      "2358/2358 [==============================] - 4s 2ms/step - loss: 0.9906 - acc: 0.5950 - val_loss: 1.1319 - val_acc: 0.5600\n",
      "Epoch 10/100\n",
      "2358/2358 [==============================] - 4s 2ms/step - loss: 0.9109 - acc: 0.6332 - val_loss: 1.1171 - val_acc: 0.5600\n",
      "Epoch 11/100\n",
      "2358/2358 [==============================] - 4s 2ms/step - loss: 0.8926 - acc: 0.6302 - val_loss: 1.0778 - val_acc: 0.5400\n",
      "Epoch 12/100\n",
      "2358/2358 [==============================] - 4s 2ms/step - loss: 0.8492 - acc: 0.6433 - val_loss: 1.1251 - val_acc: 0.5200\n",
      "Epoch 13/100\n",
      "2358/2358 [==============================] - 4s 2ms/step - loss: 0.8420 - acc: 0.6633 - val_loss: 1.0976 - val_acc: 0.5200\n",
      "Epoch 14/100\n",
      "2358/2358 [==============================] - 4s 2ms/step - loss: 0.8242 - acc: 0.6620 - val_loss: 1.0030 - val_acc: 0.5800\n",
      "Epoch 15/100\n",
      "2358/2358 [==============================] - 4s 2ms/step - loss: 0.7448 - acc: 0.7036 - val_loss: 1.0630 - val_acc: 0.6000\n",
      "Epoch 16/100\n",
      "2358/2358 [==============================] - 4s 2ms/step - loss: 0.7497 - acc: 0.7103 - val_loss: 1.0004 - val_acc: 0.5800\n",
      "Epoch 17/100\n",
      "2358/2358 [==============================] - 4s 2ms/step - loss: 0.7209 - acc: 0.7082 - val_loss: 0.9606 - val_acc: 0.6000\n",
      "Epoch 18/100\n",
      "2358/2358 [==============================] - 4s 2ms/step - loss: 0.6921 - acc: 0.7320 - val_loss: 1.1854 - val_acc: 0.5500\n",
      "Epoch 19/100\n",
      "2358/2358 [==============================] - 4s 2ms/step - loss: 0.6882 - acc: 0.7176 - val_loss: 1.0098 - val_acc: 0.6200\n",
      "Epoch 20/100\n",
      "2358/2358 [==============================] - 4s 2ms/step - loss: 0.6677 - acc: 0.7337 - val_loss: 0.8512 - val_acc: 0.6700\n",
      "Epoch 21/100\n",
      "2358/2358 [==============================] - 4s 2ms/step - loss: 0.6469 - acc: 0.7447 - val_loss: 1.0730 - val_acc: 0.5800\n",
      "Epoch 22/100\n",
      "2358/2358 [==============================] - 4s 2ms/step - loss: 0.6111 - acc: 0.7625 - val_loss: 0.9728 - val_acc: 0.6000\n",
      "Epoch 23/100\n",
      "2358/2358 [==============================] - 5s 2ms/step - loss: 0.5774 - acc: 0.7807 - val_loss: 0.9150 - val_acc: 0.6200\n",
      "Epoch 24/100\n",
      "2358/2358 [==============================] - 4s 2ms/step - loss: 0.5622 - acc: 0.7757 - val_loss: 0.9594 - val_acc: 0.6000\n",
      "Epoch 25/100\n",
      "2358/2358 [==============================] - 4s 2ms/step - loss: 0.5606 - acc: 0.7816 - val_loss: 1.2468 - val_acc: 0.5400\n",
      "Epoch 26/100\n",
      "2358/2358 [==============================] - 5s 2ms/step - loss: 0.5291 - acc: 0.7939 - val_loss: 0.9659 - val_acc: 0.5800\n",
      "Epoch 27/100\n",
      "2358/2358 [==============================] - 5s 2ms/step - loss: 0.5464 - acc: 0.7829 - val_loss: 0.8423 - val_acc: 0.6500\n",
      "Epoch 28/100\n",
      "2358/2358 [==============================] - 4s 2ms/step - loss: 0.5219 - acc: 0.8007 - val_loss: 0.8535 - val_acc: 0.6800\n",
      "Epoch 29/100\n",
      "2358/2358 [==============================] - 4s 2ms/step - loss: 0.4966 - acc: 0.8079 - val_loss: 0.9171 - val_acc: 0.6200\n",
      "Epoch 30/100\n",
      "2358/2358 [==============================] - 4s 2ms/step - loss: 0.5024 - acc: 0.8045 - val_loss: 0.9467 - val_acc: 0.5900\n",
      "Epoch 31/100\n",
      "2358/2358 [==============================] - 4s 2ms/step - loss: 0.5124 - acc: 0.8007 - val_loss: 1.0358 - val_acc: 0.6600\n",
      "Epoch 32/100\n",
      "2358/2358 [==============================] - 4s 2ms/step - loss: 0.4512 - acc: 0.8257 - val_loss: 0.8474 - val_acc: 0.6300\n",
      "Epoch 33/100\n",
      "2358/2358 [==============================] - 4s 2ms/step - loss: 0.4621 - acc: 0.8159 - val_loss: 0.9583 - val_acc: 0.6300\n",
      "Epoch 34/100\n",
      "2358/2358 [==============================] - 4s 2ms/step - loss: 0.4587 - acc: 0.8185 - val_loss: 0.9460 - val_acc: 0.6600\n",
      "Epoch 35/100\n",
      "2358/2358 [==============================] - 4s 2ms/step - loss: 0.4318 - acc: 0.8456 - val_loss: 0.9091 - val_acc: 0.6300\n",
      "Epoch 36/100\n",
      "2358/2358 [==============================] - 4s 2ms/step - loss: 0.4430 - acc: 0.8206 - val_loss: 0.8132 - val_acc: 0.6700\n",
      "Epoch 37/100\n",
      "2358/2358 [==============================] - 4s 2ms/step - loss: 0.3960 - acc: 0.8439 - val_loss: 0.9516 - val_acc: 0.6900\n",
      "Epoch 38/100\n",
      "2358/2358 [==============================] - 4s 2ms/step - loss: 0.4031 - acc: 0.8439 - val_loss: 0.8478 - val_acc: 0.6600\n",
      "Epoch 39/100\n",
      "2358/2358 [==============================] - 4s 2ms/step - loss: 0.4057 - acc: 0.8439 - val_loss: 0.7636 - val_acc: 0.7200\n",
      "Epoch 40/100\n",
      "2358/2358 [==============================] - 4s 2ms/step - loss: 0.4022 - acc: 0.8448 - val_loss: 0.7609 - val_acc: 0.7100\n",
      "Epoch 41/100\n",
      "2358/2358 [==============================] - 4s 2ms/step - loss: 0.3757 - acc: 0.8516 - val_loss: 0.7951 - val_acc: 0.6900\n",
      "Epoch 42/100\n",
      "2358/2358 [==============================] - 4s 2ms/step - loss: 0.3856 - acc: 0.8584 - val_loss: 0.8106 - val_acc: 0.6700\n",
      "Epoch 43/100\n",
      "2358/2358 [==============================] - 4s 2ms/step - loss: 0.3731 - acc: 0.8567 - val_loss: 0.8888 - val_acc: 0.6300\n",
      "Epoch 44/100\n",
      "2358/2358 [==============================] - 4s 2ms/step - loss: 0.3741 - acc: 0.8575 - val_loss: 0.7216 - val_acc: 0.7400\n",
      "Epoch 45/100\n",
      "2358/2358 [==============================] - 4s 2ms/step - loss: 0.3461 - acc: 0.8592 - val_loss: 0.9795 - val_acc: 0.6000\n",
      "Epoch 46/100\n",
      "2358/2358 [==============================] - 4s 2ms/step - loss: 0.3748 - acc: 0.8567 - val_loss: 0.8341 - val_acc: 0.7000\n",
      "Epoch 47/100\n",
      "2358/2358 [==============================] - 4s 2ms/step - loss: 0.3498 - acc: 0.8626 - val_loss: 0.7782 - val_acc: 0.7000\n",
      "Epoch 48/100\n",
      "2358/2358 [==============================] - 4s 2ms/step - loss: 0.3195 - acc: 0.8698 - val_loss: 0.8485 - val_acc: 0.6800\n",
      "Epoch 49/100\n",
      "2358/2358 [==============================] - 4s 2ms/step - loss: 0.3254 - acc: 0.8800 - val_loss: 0.9286 - val_acc: 0.6400\n",
      "Epoch 50/100\n",
      "2358/2358 [==============================] - 5s 2ms/step - loss: 0.3082 - acc: 0.8876 - val_loss: 0.9531 - val_acc: 0.6700\n",
      "Epoch 51/100\n",
      "2358/2358 [==============================] - 4s 2ms/step - loss: 0.3052 - acc: 0.8830 - val_loss: 0.9572 - val_acc: 0.6500\n",
      "Epoch 52/100\n",
      "2358/2358 [==============================] - 4s 2ms/step - loss: 0.2861 - acc: 0.8948 - val_loss: 0.8779 - val_acc: 0.6500\n",
      "Epoch 53/100\n",
      "2358/2358 [==============================] - 4s 2ms/step - loss: 0.2939 - acc: 0.8931 - val_loss: 0.8644 - val_acc: 0.6700\n",
      "Epoch 54/100\n",
      "2358/2358 [==============================] - 4s 2ms/step - loss: 0.2958 - acc: 0.8880 - val_loss: 0.8849 - val_acc: 0.6700\n",
      "Epoch 55/100\n",
      "2358/2358 [==============================] - 4s 2ms/step - loss: 0.2913 - acc: 0.8902 - val_loss: 0.9587 - val_acc: 0.6600\n",
      "Epoch 56/100\n",
      "2358/2358 [==============================] - 4s 2ms/step - loss: 0.2820 - acc: 0.8936 - val_loss: 0.8826 - val_acc: 0.6700\n",
      "Epoch 57/100\n",
      "2358/2358 [==============================] - 4s 2ms/step - loss: 0.2826 - acc: 0.8969 - val_loss: 0.9308 - val_acc: 0.6600\n",
      "Epoch 58/100\n",
      "2358/2358 [==============================] - 4s 2ms/step - loss: 0.2741 - acc: 0.8948 - val_loss: 1.0713 - val_acc: 0.6400\n",
      "Epoch 59/100\n",
      "2358/2358 [==============================] - 4s 2ms/step - loss: 0.2558 - acc: 0.9088 - val_loss: 1.0519 - val_acc: 0.6600\n",
      "Epoch 60/100\n",
      "2358/2358 [==============================] - 4s 2ms/step - loss: 0.2445 - acc: 0.9003 - val_loss: 1.0144 - val_acc: 0.6400\n"
     ]
    },
    {
     "name": "stdout",
     "output_type": "stream",
     "text": [
      "Epoch 61/100\n",
      "2358/2358 [==============================] - 4s 2ms/step - loss: 0.2490 - acc: 0.9059 - val_loss: 0.9337 - val_acc: 0.7000\n",
      "Epoch 62/100\n",
      "2358/2358 [==============================] - 4s 2ms/step - loss: 0.2522 - acc: 0.9054 - val_loss: 1.0700 - val_acc: 0.6600\n",
      "Epoch 63/100\n",
      "2358/2358 [==============================] - 4s 2ms/step - loss: 0.2297 - acc: 0.9109 - val_loss: 0.8543 - val_acc: 0.6900\n",
      "Epoch 64/100\n",
      "2358/2358 [==============================] - 4s 2ms/step - loss: 0.2444 - acc: 0.9092 - val_loss: 0.8492 - val_acc: 0.7100\n",
      "Epoch 65/100\n",
      "2358/2358 [==============================] - 4s 2ms/step - loss: 0.2282 - acc: 0.9135 - val_loss: 1.0544 - val_acc: 0.6300\n",
      "Epoch 66/100\n",
      "2358/2358 [==============================] - 4s 2ms/step - loss: 0.2165 - acc: 0.9165 - val_loss: 0.9216 - val_acc: 0.6500\n",
      "Epoch 67/100\n",
      "2358/2358 [==============================] - 4s 2ms/step - loss: 0.2228 - acc: 0.9169 - val_loss: 0.9885 - val_acc: 0.6700\n",
      "Epoch 68/100\n",
      "2358/2358 [==============================] - 4s 2ms/step - loss: 0.2290 - acc: 0.9122 - val_loss: 0.9792 - val_acc: 0.6500\n",
      "Epoch 69/100\n",
      "2358/2358 [==============================] - 4s 2ms/step - loss: 0.2180 - acc: 0.9241 - val_loss: 1.0629 - val_acc: 0.6500\n",
      "Epoch 70/100\n",
      "2358/2358 [==============================] - 4s 2ms/step - loss: 0.2280 - acc: 0.9143 - val_loss: 1.1427 - val_acc: 0.6400\n",
      "Epoch 71/100\n",
      "2358/2358 [==============================] - 4s 2ms/step - loss: 0.2040 - acc: 0.9254 - val_loss: 1.0972 - val_acc: 0.6700\n",
      "Epoch 72/100\n",
      "2358/2358 [==============================] - 4s 2ms/step - loss: 0.1872 - acc: 0.9313 - val_loss: 1.1242 - val_acc: 0.6500\n",
      "Epoch 73/100\n",
      "2358/2358 [==============================] - 4s 2ms/step - loss: 0.2017 - acc: 0.9198 - val_loss: 1.0070 - val_acc: 0.6300\n",
      "Epoch 74/100\n",
      "2358/2358 [==============================] - 4s 2ms/step - loss: 0.1849 - acc: 0.9254 - val_loss: 0.9463 - val_acc: 0.7200\n",
      "Epoch 75/100\n",
      "2358/2358 [==============================] - 4s 2ms/step - loss: 0.2023 - acc: 0.9237 - val_loss: 1.2098 - val_acc: 0.6200\n",
      "Epoch 76/100\n",
      "2358/2358 [==============================] - 5s 2ms/step - loss: 0.2134 - acc: 0.9203 - val_loss: 1.1327 - val_acc: 0.6300\n",
      "Epoch 77/100\n",
      "2358/2358 [==============================] - 5s 2ms/step - loss: 0.1905 - acc: 0.9249 - val_loss: 1.1576 - val_acc: 0.6400\n",
      "Epoch 78/100\n",
      "2358/2358 [==============================] - 5s 2ms/step - loss: 0.1744 - acc: 0.9334 - val_loss: 1.0856 - val_acc: 0.6700\n",
      "Epoch 79/100\n",
      "2358/2358 [==============================] - 6s 2ms/step - loss: 0.1887 - acc: 0.9292 - val_loss: 1.0941 - val_acc: 0.6500\n",
      "Epoch 80/100\n",
      "2358/2358 [==============================] - 6s 3ms/step - loss: 0.1746 - acc: 0.9377 - val_loss: 1.3085 - val_acc: 0.6000\n",
      "Epoch 81/100\n",
      "2358/2358 [==============================] - 6s 3ms/step - loss: 0.1976 - acc: 0.9304 - val_loss: 1.0973 - val_acc: 0.6600\n",
      "Epoch 82/100\n",
      "2358/2358 [==============================] - 6s 3ms/step - loss: 0.1872 - acc: 0.9309 - val_loss: 1.1591 - val_acc: 0.6700\n",
      "Epoch 83/100\n",
      "2358/2358 [==============================] - 6s 3ms/step - loss: 0.1654 - acc: 0.9351 - val_loss: 1.2127 - val_acc: 0.6700\n",
      "Epoch 84/100\n",
      "2358/2358 [==============================] - 6s 3ms/step - loss: 0.1630 - acc: 0.9377 - val_loss: 0.9612 - val_acc: 0.7400\n",
      "Epoch 85/100\n",
      "2358/2358 [==============================] - 7s 3ms/step - loss: 0.1489 - acc: 0.9457 - val_loss: 1.2617 - val_acc: 0.7000\n",
      "Epoch 86/100\n",
      "2358/2358 [==============================] - 7s 3ms/step - loss: 0.1611 - acc: 0.9406 - val_loss: 0.9076 - val_acc: 0.7400\n",
      "Epoch 87/100\n",
      "2358/2358 [==============================] - 7s 3ms/step - loss: 0.1633 - acc: 0.9398 - val_loss: 1.1079 - val_acc: 0.6600\n",
      "Epoch 88/100\n",
      "2358/2358 [==============================] - 6s 3ms/step - loss: 0.1613 - acc: 0.9440 - val_loss: 1.2136 - val_acc: 0.6500\n",
      "Epoch 89/100\n",
      "2358/2358 [==============================] - 6s 3ms/step - loss: 0.1647 - acc: 0.9406 - val_loss: 1.0576 - val_acc: 0.7000\n",
      "Epoch 90/100\n",
      "2358/2358 [==============================] - 6s 3ms/step - loss: 0.1707 - acc: 0.9343 - val_loss: 1.1357 - val_acc: 0.7000\n",
      "Epoch 91/100\n",
      "2358/2358 [==============================] - 6s 3ms/step - loss: 0.1528 - acc: 0.9419 - val_loss: 1.2020 - val_acc: 0.7100\n",
      "Epoch 92/100\n",
      "2358/2358 [==============================] - 6s 3ms/step - loss: 0.1421 - acc: 0.9508 - val_loss: 1.3089 - val_acc: 0.7100\n",
      "Epoch 93/100\n",
      "2358/2358 [==============================] - 6s 3ms/step - loss: 0.1413 - acc: 0.9491 - val_loss: 1.2414 - val_acc: 0.6600\n",
      "Epoch 94/100\n",
      "2358/2358 [==============================] - 6s 3ms/step - loss: 0.1350 - acc: 0.9512 - val_loss: 1.1428 - val_acc: 0.6900\n",
      "Epoch 95/100\n",
      "2358/2358 [==============================] - 6s 3ms/step - loss: 0.1598 - acc: 0.9436 - val_loss: 1.3295 - val_acc: 0.6700\n",
      "Epoch 96/100\n",
      "2358/2358 [==============================] - 6s 3ms/step - loss: 0.1368 - acc: 0.9449 - val_loss: 1.4016 - val_acc: 0.6500\n",
      "Epoch 97/100\n",
      "2358/2358 [==============================] - 6s 3ms/step - loss: 0.1338 - acc: 0.9517 - val_loss: 1.0429 - val_acc: 0.7100\n",
      "Epoch 98/100\n",
      "2358/2358 [==============================] - 6s 3ms/step - loss: 0.1312 - acc: 0.9495 - val_loss: 1.0807 - val_acc: 0.7300\n",
      "Epoch 99/100\n",
      "2358/2358 [==============================] - 6s 3ms/step - loss: 0.1096 - acc: 0.9640 - val_loss: 1.0904 - val_acc: 0.7500\n",
      "Epoch 100/100\n",
      "2358/2358 [==============================] - 6s 3ms/step - loss: 0.1312 - acc: 0.9495 - val_loss: 1.4582 - val_acc: 0.6700\n"
     ]
    }
   ],
   "source": [
    "# train the data with validation\n",
    "history = model.fit(X_train, y_train,\n",
    "                    batch_size=batch_size, \n",
    "                    epochs=num_epoch, \n",
    "                    shuffle=False,\n",
    "                    validation_data=(X_val, y_val))"
   ]
  },
  {
   "cell_type": "code",
   "execution_count": 7,
   "metadata": {},
   "outputs": [
    {
     "name": "stdout",
     "output_type": "stream",
     "text": [
      "dict_keys(['val_loss', 'val_acc', 'loss', 'acc'])\n"
     ]
    },
    {
     "data": {
      "image/png": "[encoded data removed]",
      "text/plain": [
       "<matplotlib.figure.Figure at 0x7f0ca45cba90>"
      ]
     },
     "metadata": {},
     "output_type": "display_data"
    },
    {
     "data": {
      "image/png": "[encoded data removed]",
      "text/plain": [
       "<matplotlib.figure.Figure at 0x7f0ca45bf908>"
      ]
     },
     "metadata": {},
     "output_type": "display_data"
    }
   ],
   "source": [
    "# list all data in history\n",
    "print(history.history.keys())\n",
    "\n",
    "# summarize history for accuracy\n",
    "plt.plot(history.history['acc'])\n",
    "plt.plot(history.history['val_acc'])\n",
    "plt.title('model accuracy')\n",
    "plt.ylabel('accuracy')\n",
    "plt.xlabel('epoch')\n",
    "plt.legend(['train', 'val'], loc='upper left')\n",
    "plt.show()\n",
    "\n",
    "# summarize history for loss\n",
    "plt.plot(history.history['loss'],'o')\n",
    "plt.plot(history.history['val_loss'],'o')\n",
    "plt.title('model loss')\n",
    "plt.ylabel('loss')\n",
    "plt.xlabel('epoch')\n",
    "plt.legend(['train', 'val'], loc='upper left')\n",
    "plt.show()"
   ]
  },
  {
   "cell_type": "code",
   "execution_count": 8,
   "metadata": {},
   "outputs": [
    {
     "name": "stdout",
     "output_type": "stream",
     "text": [
      "\r",
      "100/100 [==============================] - 0s 1ms/step\n"
     ]
    },
    {
     "data": {
      "text/plain": [
       "[1.3811285495758057, 0.699999988079071]"
      ]
     },
     "execution_count": 8,
     "metadata": {},
     "output_type": "execute_result"
    }
   ],
   "source": [
    "# test set\n",
    "model.evaluate(X_test,y_test,batch_size=N_test)"
   ]
  },
  {
   "cell_type": "code",
   "execution_count": null,
   "metadata": {},
   "outputs": [],
   "source": []
  }
 ],
 "metadata": {
  "kernelspec": {
   "display_name": "Python 3",
   "language": "python",
   "name": "python3"
  },
  "language_info": {
   "codemirror_mode": {
    "name": "ipython",
    "version": 3
   },
   "file_extension": ".py",
   "mimetype": "text/x-python",
   "name": "python",
   "nbconvert_exporter": "python",
   "pygments_lexer": "ipython3",
   "version": "3.6.3"
  }
 },
 "nbformat": 4,
 "nbformat_minor": 2
}
