{
 "cells": [
  {
   "cell_type": "markdown",
   "metadata": {},
   "source": [
    "This run has smaller size lstm.\n",
    "\n",
    "This run has validation accuracy around 60%\n",
    "\n",
    "From results shown, high dropout does contribute to regularization, but smaller size lstm decrease the ability to fit in more features. Should try larger size lstm next time."
   ]
  },
  {
   "cell_type": "code",
   "execution_count": 1,
   "metadata": {},
   "outputs": [
    {
     "name": "stderr",
     "output_type": "stream",
     "text": [
      "/mnt/g/Course/2017-2018_4th_year/2018_winter/ECE_239AS/Project/.env4/lib/python3.6/site-packages/h5py/__init__.py:36: FutureWarning: Conversion of the second argument of issubdtype from `float` to `np.floating` is deprecated. In future, it will be treated as `np.float64 == np.dtype(float).type`.\n",
      "  from ._conv import register_converters as _register_converters\n",
      "Using TensorFlow backend.\n"
     ]
    }
   ],
   "source": [
    "from keras.models import Sequential\n",
    "from keras.layers import LSTM, Dense, Dropout, BatchNormalization\n",
    "from keras.layers import Conv1D, MaxPooling1D, Activation, Flatten\n",
    "from keras.utils import to_categorical\n",
    "import numpy as np\n",
    "import h5py\n",
    "import matplotlib.pyplot as plt\n",
    "from data_utils import get_data\n",
    "from sklearn import preprocessing\n"
   ]
  },
  {
   "cell_type": "code",
   "execution_count": 2,
   "metadata": {
    "scrolled": true
   },
   "outputs": [
    {
     "name": "stdout",
     "output_type": "stream",
     "text": [
      "X_train: (2358, 1000, 22) \n",
      "y_train: (2358,) \n",
      "X_val: (100, 1000, 22) \n",
      "y_val: (100,) \n",
      "X_test: (100, 1000, 22) \n",
      "y_test: (100,) \n"
     ]
    }
   ],
   "source": [
    "# Load data from all .mat files, combine them, eliminate EOG signals, shuffle and \n",
    "# seperate training data, validation data and testing data.\n",
    "# Also do mean subtraction on x.\n",
    "\n",
    "data = get_data('../project_datasets',num_validation=100, num_test=100, subtract_mean=True, subtract_axis=1,\n",
    "                transpose=True)\n",
    "for k in data.keys():\n",
    "    print('{}: {} '.format(k, data[k].shape))"
   ]
  },
  {
   "cell_type": "code",
   "execution_count": 3,
   "metadata": {},
   "outputs": [],
   "source": [
    "num_classes = 4\n",
    "\n",
    "# substract data from list\n",
    "X_train = data.get('X_train')\n",
    "y_train = data.get('y_train')\n",
    "X_val = data.get('X_val')\n",
    "y_val = data.get('y_val')\n",
    "X_test = data.get('X_test')\n",
    "y_test = data.get('y_test')\n",
    "\n",
    "# get data dimension\n",
    "N_train, T_train, C_train = data.get('X_train').shape\n",
    "N_val, T_val, C_val = data.get('X_val').shape\n",
    "N_test, T_test, C_test = data.get('X_test').shape\n",
    "\n",
    "# add dummy zeros for y classification, convert class vectors to binary class matrices.\n",
    "y_train = to_categorical(y_train, num_classes)\n",
    "y_val = to_categorical(y_val, num_classes)\n",
    "y_test = to_categorical(y_test, num_classes)"
   ]
  },
  {
   "cell_type": "code",
   "execution_count": 4,
   "metadata": {},
   "outputs": [
    {
     "name": "stdout",
     "output_type": "stream",
     "text": [
      "X_train:  (2358, 1000, 22)\n",
      "y_train:  (2358, 4)\n",
      "X_val:  (100, 1000, 22)\n",
      "y_val:  (100, 4)\n",
      "X_test:  (100, 1000, 22)\n",
      "y_test:  (100, 4)\n"
     ]
    }
   ],
   "source": [
    "# construct X_total and y_total based on sub-sampling of X_train and y_train\n",
    "\n",
    "# take sub-sampling on the time sequence to reduce dimension for RNN\n",
    "sampling = 1\n",
    "\n",
    "X_train = X_train.reshape(N_train,int(T_train/sampling), sampling, C_train)[:,:,0,:]\n",
    "X_val = X_val.reshape(N_val,int(T_val/sampling), sampling, C_val)[:,:,0,:]\n",
    "X_test = X_test.reshape(N_test,int(T_test/sampling), sampling, C_test)[:,:,0,:]\n",
    "\n",
    "# get new data dimension\n",
    "N_train, T_train, C_train = X_train.shape\n",
    "N_val, T_val, C_val = X_val.shape\n",
    "N_test, T_test, C_test = X_test.shape\n",
    "\n",
    "print('X_train: ', X_train.shape)\n",
    "print('y_train: ', y_train.shape)\n",
    "print('X_val: ', X_val.shape)\n",
    "print('y_val: ', y_val.shape)\n",
    "print('X_test: ', X_test.shape)\n",
    "print('y_test: ', y_test.shape)"
   ]
  },
  {
   "cell_type": "code",
   "execution_count": 5,
   "metadata": {},
   "outputs": [
    {
     "name": "stdout",
     "output_type": "stream",
     "text": [
      "WARNING:tensorflow:From /mnt/g/Course/2017-2018_4th_year/2018_winter/ECE_239AS/Project/.env4/lib/python3.6/site-packages/tensorflow/python/util/deprecation.py:497: calling conv1d (from tensorflow.python.ops.nn_ops) with data_format=NHWC is deprecated and will be removed in a future version.\n",
      "Instructions for updating:\n",
      "`NHWC` for data_format is deprecated, use `NWC` instead\n"
     ]
    }
   ],
   "source": [
    "# Expected input batch shape: (batch_size, timesteps, data_dim)\n",
    "# Note that we have to provide the full batch_input_shape since the network is stateful.\n",
    "# the sample of index i in batch k is the follow-up for the sample i in batch k-1.\n",
    "\n",
    "# perhaps should try masking layer\n",
    "\n",
    "data_dim = C_train\n",
    "timesteps = T_train\n",
    "batch_size = 100\n",
    "num_epoch = 100\n",
    "\n",
    "# make a sequential model\n",
    "model = Sequential()\n",
    "\n",
    "# add 1-layer cnn\n",
    "model.add(Conv1D(40, kernel_size=12, strides=4,\n",
    "          input_shape=(timesteps, data_dim)))\n",
    "model.add(Activation('relu'))\n",
    "model.add(Dropout(0.5))\n",
    "model.add(BatchNormalization())\n",
    "model.add(MaxPooling1D(pool_size=4, strides=4))\n",
    "\n",
    "\n",
    "# add 2-layer lstm\n",
    "model.add(LSTM(10, return_sequences=True, stateful=False))\n",
    "model.add(Dropout(0.5))\n",
    "model.add(BatchNormalization())\n",
    "model.add(LSTM(10, return_sequences=True, stateful=False))\n",
    "model.add(Dropout(0.5))\n",
    "model.add(BatchNormalization())\n",
    "model.add(Flatten())\n",
    "model.add(Dense(num_classes, activation='softmax'))\n",
    "\n",
    "# set loss function and optimizer\n",
    "model.compile(loss='categorical_crossentropy',\n",
    "              optimizer='adam',\n",
    "              metrics=['accuracy'])"
   ]
  },
  {
   "cell_type": "code",
   "execution_count": 6,
   "metadata": {},
   "outputs": [
    {
     "name": "stdout",
     "output_type": "stream",
     "text": [
      "Train on 2358 samples, validate on 100 samples\n",
      "Epoch 1/100\n",
      "2358/2358 [==============================] - 4s 2ms/step - loss: 1.8495 - acc: 0.2799 - val_loss: 1.4197 - val_acc: 0.2600\n",
      "Epoch 2/100\n",
      "2358/2358 [==============================] - 3s 1ms/step - loss: 1.7339 - acc: 0.2689 - val_loss: 1.3370 - val_acc: 0.3400\n",
      "Epoch 3/100\n",
      "2358/2358 [==============================] - 3s 1ms/step - loss: 1.6563 - acc: 0.3092 - val_loss: 1.2874 - val_acc: 0.3900\n",
      "Epoch 4/100\n",
      "2358/2358 [==============================] - 3s 1ms/step - loss: 1.5934 - acc: 0.2850 - val_loss: 1.2939 - val_acc: 0.3300\n",
      "Epoch 5/100\n",
      "2358/2358 [==============================] - 3s 1ms/step - loss: 1.5282 - acc: 0.3100 - val_loss: 1.2965 - val_acc: 0.3800\n",
      "Epoch 6/100\n",
      "2358/2358 [==============================] - 3s 1ms/step - loss: 1.4880 - acc: 0.3181 - val_loss: 1.2712 - val_acc: 0.4400\n",
      "Epoch 7/100\n",
      "2358/2358 [==============================] - 3s 1ms/step - loss: 1.4117 - acc: 0.3567 - val_loss: 1.2572 - val_acc: 0.4300\n",
      "Epoch 8/100\n",
      "2358/2358 [==============================] - 3s 1ms/step - loss: 1.3637 - acc: 0.3698 - val_loss: 1.2326 - val_acc: 0.5000\n",
      "Epoch 9/100\n",
      "2358/2358 [==============================] - 3s 1ms/step - loss: 1.3252 - acc: 0.3897 - val_loss: 1.2381 - val_acc: 0.4000\n",
      "Epoch 10/100\n",
      "2358/2358 [==============================] - 3s 1ms/step - loss: 1.3174 - acc: 0.4025 - val_loss: 1.1896 - val_acc: 0.4500\n",
      "Epoch 11/100\n",
      "2358/2358 [==============================] - 3s 1ms/step - loss: 1.3034 - acc: 0.4016 - val_loss: 1.1694 - val_acc: 0.4900\n",
      "Epoch 12/100\n",
      "2358/2358 [==============================] - 3s 1ms/step - loss: 1.2588 - acc: 0.4440 - val_loss: 1.1405 - val_acc: 0.5700\n",
      "Epoch 13/100\n",
      "2358/2358 [==============================] - 3s 1ms/step - loss: 1.2396 - acc: 0.4461 - val_loss: 1.1248 - val_acc: 0.5600\n",
      "Epoch 14/100\n",
      "2358/2358 [==============================] - 3s 1ms/step - loss: 1.2112 - acc: 0.4584 - val_loss: 1.1227 - val_acc: 0.5300\n",
      "Epoch 15/100\n",
      "2358/2358 [==============================] - 3s 1ms/step - loss: 1.1721 - acc: 0.4852 - val_loss: 1.1226 - val_acc: 0.5500\n",
      "Epoch 16/100\n",
      "2358/2358 [==============================] - 3s 1ms/step - loss: 1.1906 - acc: 0.4771 - val_loss: 1.1418 - val_acc: 0.5300\n",
      "Epoch 17/100\n",
      "2358/2358 [==============================] - 3s 1ms/step - loss: 1.1740 - acc: 0.4945 - val_loss: 1.1110 - val_acc: 0.5600\n",
      "Epoch 18/100\n",
      "2358/2358 [==============================] - 3s 1ms/step - loss: 1.1825 - acc: 0.4992 - val_loss: 1.1050 - val_acc: 0.5200\n",
      "Epoch 19/100\n",
      "2358/2358 [==============================] - 3s 1ms/step - loss: 1.1537 - acc: 0.5000 - val_loss: 1.0833 - val_acc: 0.5700\n",
      "Epoch 20/100\n",
      "2358/2358 [==============================] - 3s 1ms/step - loss: 1.1306 - acc: 0.5081 - val_loss: 1.1028 - val_acc: 0.5300\n",
      "Epoch 21/100\n",
      "2358/2358 [==============================] - 3s 1ms/step - loss: 1.1288 - acc: 0.5098 - val_loss: 1.0625 - val_acc: 0.5800\n",
      "Epoch 22/100\n",
      "2358/2358 [==============================] - 3s 1ms/step - loss: 1.1381 - acc: 0.5068 - val_loss: 1.0889 - val_acc: 0.5200\n",
      "Epoch 23/100\n",
      "2358/2358 [==============================] - 3s 1ms/step - loss: 1.1120 - acc: 0.5204 - val_loss: 1.0782 - val_acc: 0.5500\n",
      "Epoch 24/100\n",
      "2358/2358 [==============================] - 3s 1ms/step - loss: 1.1056 - acc: 0.5187 - val_loss: 1.0879 - val_acc: 0.5400\n",
      "Epoch 25/100\n",
      "2358/2358 [==============================] - 3s 1ms/step - loss: 1.0702 - acc: 0.5526 - val_loss: 1.0752 - val_acc: 0.5500\n",
      "Epoch 26/100\n",
      "2358/2358 [==============================] - 3s 1ms/step - loss: 1.0887 - acc: 0.5250 - val_loss: 1.0704 - val_acc: 0.5500\n",
      "Epoch 27/100\n",
      "2358/2358 [==============================] - 3s 1ms/step - loss: 1.0674 - acc: 0.5458 - val_loss: 1.0564 - val_acc: 0.5600\n",
      "Epoch 28/100\n",
      "2358/2358 [==============================] - 3s 1ms/step - loss: 1.0377 - acc: 0.5606 - val_loss: 1.0468 - val_acc: 0.5900\n",
      "Epoch 29/100\n",
      "2358/2358 [==============================] - 3s 1ms/step - loss: 1.0678 - acc: 0.5547 - val_loss: 1.0180 - val_acc: 0.5500\n",
      "Epoch 30/100\n",
      "2358/2358 [==============================] - 4s 1ms/step - loss: 1.0435 - acc: 0.5573 - val_loss: 1.0628 - val_acc: 0.5500\n",
      "Epoch 31/100\n",
      "2358/2358 [==============================] - 4s 2ms/step - loss: 1.0525 - acc: 0.5424 - val_loss: 1.0428 - val_acc: 0.6100\n",
      "Epoch 32/100\n",
      "2358/2358 [==============================] - 4s 1ms/step - loss: 1.0403 - acc: 0.5577 - val_loss: 1.0193 - val_acc: 0.5800\n",
      "Epoch 33/100\n",
      "2358/2358 [==============================] - 4s 1ms/step - loss: 1.0255 - acc: 0.5802 - val_loss: 1.0045 - val_acc: 0.5700\n",
      "Epoch 34/100\n",
      "2358/2358 [==============================] - 4s 2ms/step - loss: 1.0068 - acc: 0.5814 - val_loss: 0.9915 - val_acc: 0.5700\n",
      "Epoch 35/100\n",
      "2358/2358 [==============================] - 5s 2ms/step - loss: 1.0165 - acc: 0.5746 - val_loss: 1.0382 - val_acc: 0.5800\n",
      "Epoch 36/100\n",
      "2358/2358 [==============================] - 4s 2ms/step - loss: 1.0160 - acc: 0.5806 - val_loss: 1.0267 - val_acc: 0.5600\n",
      "Epoch 37/100\n",
      "2358/2358 [==============================] - 5s 2ms/step - loss: 1.0044 - acc: 0.5780 - val_loss: 1.0256 - val_acc: 0.5600\n",
      "Epoch 38/100\n",
      "2358/2358 [==============================] - 7s 3ms/step - loss: 1.0009 - acc: 0.5954 - val_loss: 1.0416 - val_acc: 0.5100\n",
      "Epoch 39/100\n",
      "2358/2358 [==============================] - 6s 3ms/step - loss: 0.9715 - acc: 0.6026 - val_loss: 1.0176 - val_acc: 0.5700\n",
      "Epoch 40/100\n",
      "2358/2358 [==============================] - 7s 3ms/step - loss: 0.9753 - acc: 0.5992 - val_loss: 0.9861 - val_acc: 0.5500\n",
      "Epoch 41/100\n",
      "2358/2358 [==============================] - 8s 3ms/step - loss: 0.9816 - acc: 0.5886 - val_loss: 1.0266 - val_acc: 0.5800\n",
      "Epoch 42/100\n",
      "2358/2358 [==============================] - 8s 3ms/step - loss: 0.9732 - acc: 0.5874 - val_loss: 1.0166 - val_acc: 0.5400\n",
      "Epoch 43/100\n",
      "2358/2358 [==============================] - 8s 3ms/step - loss: 0.9676 - acc: 0.6043 - val_loss: 1.0527 - val_acc: 0.5000\n",
      "Epoch 44/100\n",
      "2358/2358 [==============================] - 8s 4ms/step - loss: 0.9731 - acc: 0.5903 - val_loss: 1.0431 - val_acc: 0.5300\n",
      "Epoch 45/100\n",
      "2358/2358 [==============================] - 8s 3ms/step - loss: 0.9632 - acc: 0.6039 - val_loss: 0.9988 - val_acc: 0.5500\n",
      "Epoch 46/100\n",
      "2358/2358 [==============================] - 8s 3ms/step - loss: 0.9434 - acc: 0.6221 - val_loss: 1.1235 - val_acc: 0.4400\n",
      "Epoch 47/100\n",
      "2358/2358 [==============================] - 8s 3ms/step - loss: 0.9501 - acc: 0.6145 - val_loss: 1.0518 - val_acc: 0.5500\n",
      "Epoch 48/100\n",
      "2358/2358 [==============================] - 8s 3ms/step - loss: 0.9336 - acc: 0.6204 - val_loss: 1.0384 - val_acc: 0.5700\n",
      "Epoch 49/100\n",
      "2358/2358 [==============================] - 8s 3ms/step - loss: 0.9361 - acc: 0.6196 - val_loss: 1.1160 - val_acc: 0.5200\n",
      "Epoch 50/100\n",
      "2358/2358 [==============================] - 8s 3ms/step - loss: 0.9684 - acc: 0.5971 - val_loss: 1.1028 - val_acc: 0.4900\n",
      "Epoch 51/100\n",
      "2358/2358 [==============================] - 8s 3ms/step - loss: 0.9108 - acc: 0.6264 - val_loss: 1.0089 - val_acc: 0.4900\n",
      "Epoch 52/100\n",
      "2358/2358 [==============================] - 8s 3ms/step - loss: 0.9167 - acc: 0.6332 - val_loss: 1.0314 - val_acc: 0.5200\n",
      "Epoch 53/100\n",
      "2358/2358 [==============================] - 8s 3ms/step - loss: 0.9385 - acc: 0.6293 - val_loss: 1.0900 - val_acc: 0.4700\n",
      "Epoch 54/100\n",
      "2358/2358 [==============================] - 8s 3ms/step - loss: 0.9151 - acc: 0.6260 - val_loss: 0.9810 - val_acc: 0.5200\n",
      "Epoch 55/100\n",
      "2358/2358 [==============================] - 8s 3ms/step - loss: 0.9203 - acc: 0.6196 - val_loss: 0.9850 - val_acc: 0.5700\n",
      "Epoch 56/100\n",
      "2358/2358 [==============================] - 8s 3ms/step - loss: 0.9142 - acc: 0.6336 - val_loss: 0.9369 - val_acc: 0.5900\n",
      "Epoch 57/100\n",
      "2358/2358 [==============================] - 8s 3ms/step - loss: 0.8929 - acc: 0.6429 - val_loss: 1.0419 - val_acc: 0.5300\n",
      "Epoch 58/100\n",
      "2358/2358 [==============================] - 8s 3ms/step - loss: 0.8969 - acc: 0.6281 - val_loss: 0.9992 - val_acc: 0.5400\n",
      "Epoch 59/100\n",
      "2358/2358 [==============================] - 8s 3ms/step - loss: 0.8908 - acc: 0.6463 - val_loss: 1.0227 - val_acc: 0.5100\n",
      "Epoch 60/100\n",
      "2358/2358 [==============================] - 8s 4ms/step - loss: 0.8849 - acc: 0.6421 - val_loss: 1.0479 - val_acc: 0.5600\n"
     ]
    },
    {
     "name": "stdout",
     "output_type": "stream",
     "text": [
      "Epoch 61/100\n",
      "2358/2358 [==============================] - 8s 3ms/step - loss: 0.8732 - acc: 0.6556 - val_loss: 1.0070 - val_acc: 0.5300\n",
      "Epoch 62/100\n",
      "2358/2358 [==============================] - 8s 3ms/step - loss: 0.8793 - acc: 0.6408 - val_loss: 0.9518 - val_acc: 0.6000\n",
      "Epoch 63/100\n",
      "2358/2358 [==============================] - 8s 3ms/step - loss: 0.8978 - acc: 0.6484 - val_loss: 1.0060 - val_acc: 0.5400\n",
      "Epoch 64/100\n",
      "2358/2358 [==============================] - 8s 3ms/step - loss: 0.8579 - acc: 0.6531 - val_loss: 0.9616 - val_acc: 0.6000\n",
      "Epoch 65/100\n",
      "2358/2358 [==============================] - 8s 3ms/step - loss: 0.8627 - acc: 0.6573 - val_loss: 1.0008 - val_acc: 0.5500\n",
      "Epoch 66/100\n",
      "2358/2358 [==============================] - 8s 3ms/step - loss: 0.8564 - acc: 0.6518 - val_loss: 1.0693 - val_acc: 0.5200\n",
      "Epoch 67/100\n",
      "2358/2358 [==============================] - 8s 3ms/step - loss: 0.8190 - acc: 0.6701 - val_loss: 1.0054 - val_acc: 0.5300\n",
      "Epoch 68/100\n",
      "2358/2358 [==============================] - 8s 3ms/step - loss: 0.8583 - acc: 0.6442 - val_loss: 0.9986 - val_acc: 0.5800\n",
      "Epoch 69/100\n",
      "2358/2358 [==============================] - 8s 3ms/step - loss: 0.8485 - acc: 0.6628 - val_loss: 0.9319 - val_acc: 0.6100\n",
      "Epoch 70/100\n",
      "2358/2358 [==============================] - 8s 3ms/step - loss: 0.8503 - acc: 0.6548 - val_loss: 1.0974 - val_acc: 0.4800\n",
      "Epoch 71/100\n",
      "2358/2358 [==============================] - 8s 3ms/step - loss: 0.8211 - acc: 0.6777 - val_loss: 1.0454 - val_acc: 0.5100\n",
      "Epoch 72/100\n",
      "2358/2358 [==============================] - 8s 3ms/step - loss: 0.8569 - acc: 0.6552 - val_loss: 1.1415 - val_acc: 0.4900\n",
      "Epoch 73/100\n",
      "2358/2358 [==============================] - 8s 3ms/step - loss: 0.8333 - acc: 0.6730 - val_loss: 1.1161 - val_acc: 0.4800\n",
      "Epoch 74/100\n",
      "2358/2358 [==============================] - 8s 3ms/step - loss: 0.8334 - acc: 0.6654 - val_loss: 0.9560 - val_acc: 0.5300\n",
      "Epoch 75/100\n",
      "2358/2358 [==============================] - 8s 3ms/step - loss: 0.8224 - acc: 0.6802 - val_loss: 0.9774 - val_acc: 0.5700\n",
      "Epoch 76/100\n",
      "2358/2358 [==============================] - 8s 3ms/step - loss: 0.8089 - acc: 0.6620 - val_loss: 0.9118 - val_acc: 0.5900\n",
      "Epoch 77/100\n",
      "2358/2358 [==============================] - 8s 3ms/step - loss: 0.8176 - acc: 0.6747 - val_loss: 1.0068 - val_acc: 0.5400\n",
      "Epoch 78/100\n",
      "2358/2358 [==============================] - 8s 3ms/step - loss: 0.8186 - acc: 0.6781 - val_loss: 0.9472 - val_acc: 0.5900\n",
      "Epoch 79/100\n",
      "2358/2358 [==============================] - 8s 3ms/step - loss: 0.8026 - acc: 0.6760 - val_loss: 0.9601 - val_acc: 0.5400\n",
      "Epoch 80/100\n",
      "2358/2358 [==============================] - 8s 3ms/step - loss: 0.7946 - acc: 0.6883 - val_loss: 1.0000 - val_acc: 0.5500\n",
      "Epoch 81/100\n",
      "2358/2358 [==============================] - 8s 3ms/step - loss: 0.8013 - acc: 0.6790 - val_loss: 1.1061 - val_acc: 0.5200\n",
      "Epoch 82/100\n",
      "2358/2358 [==============================] - 8s 3ms/step - loss: 0.7893 - acc: 0.6773 - val_loss: 0.9446 - val_acc: 0.6100\n",
      "Epoch 83/100\n",
      "2358/2358 [==============================] - 8s 3ms/step - loss: 0.7899 - acc: 0.6925 - val_loss: 0.9286 - val_acc: 0.5800\n",
      "Epoch 84/100\n",
      "2358/2358 [==============================] - 8s 3ms/step - loss: 0.7863 - acc: 0.6883 - val_loss: 1.0472 - val_acc: 0.5200\n",
      "Epoch 85/100\n",
      "2358/2358 [==============================] - 8s 3ms/step - loss: 0.8061 - acc: 0.6773 - val_loss: 1.0146 - val_acc: 0.5400\n",
      "Epoch 86/100\n",
      "2358/2358 [==============================] - 8s 3ms/step - loss: 0.7661 - acc: 0.6993 - val_loss: 0.9692 - val_acc: 0.5800\n",
      "Epoch 87/100\n",
      "2358/2358 [==============================] - 8s 3ms/step - loss: 0.7618 - acc: 0.6964 - val_loss: 0.9344 - val_acc: 0.5700\n",
      "Epoch 88/100\n",
      "2358/2358 [==============================] - 8s 3ms/step - loss: 0.7971 - acc: 0.6802 - val_loss: 0.9758 - val_acc: 0.5700\n",
      "Epoch 89/100\n",
      "2358/2358 [==============================] - 8s 3ms/step - loss: 0.7683 - acc: 0.6980 - val_loss: 0.9144 - val_acc: 0.5900\n",
      "Epoch 90/100\n",
      "2358/2358 [==============================] - 8s 3ms/step - loss: 0.7489 - acc: 0.7036 - val_loss: 0.9968 - val_acc: 0.5500\n",
      "Epoch 91/100\n",
      "2358/2358 [==============================] - 8s 3ms/step - loss: 0.7515 - acc: 0.6989 - val_loss: 0.9562 - val_acc: 0.5800\n",
      "Epoch 92/100\n",
      "2358/2358 [==============================] - 8s 3ms/step - loss: 0.7770 - acc: 0.6942 - val_loss: 0.8754 - val_acc: 0.6200\n",
      "Epoch 93/100\n",
      "2358/2358 [==============================] - 8s 3ms/step - loss: 0.7679 - acc: 0.7065 - val_loss: 0.9602 - val_acc: 0.5900\n",
      "Epoch 94/100\n",
      "2358/2358 [==============================] - 8s 3ms/step - loss: 0.7346 - acc: 0.7053 - val_loss: 0.9311 - val_acc: 0.6200\n",
      "Epoch 95/100\n",
      "2358/2358 [==============================] - 8s 3ms/step - loss: 0.7611 - acc: 0.6908 - val_loss: 1.0283 - val_acc: 0.5200\n",
      "Epoch 96/100\n",
      "2358/2358 [==============================] - 8s 3ms/step - loss: 0.7618 - acc: 0.7006 - val_loss: 0.9800 - val_acc: 0.6000\n",
      "Epoch 97/100\n",
      "2358/2358 [==============================] - 8s 3ms/step - loss: 0.7314 - acc: 0.7167 - val_loss: 0.9969 - val_acc: 0.5500\n",
      "Epoch 98/100\n",
      "2358/2358 [==============================] - 8s 3ms/step - loss: 0.7416 - acc: 0.7048 - val_loss: 0.9532 - val_acc: 0.5800\n",
      "Epoch 99/100\n",
      "2358/2358 [==============================] - 8s 3ms/step - loss: 0.7364 - acc: 0.7040 - val_loss: 0.9390 - val_acc: 0.6200\n",
      "Epoch 100/100\n",
      "2358/2358 [==============================] - 8s 3ms/step - loss: 0.7239 - acc: 0.7103 - val_loss: 0.9418 - val_acc: 0.5700\n"
     ]
    }
   ],
   "source": [
    "# train the data with validation\n",
    "history = model.fit(X_train, y_train,\n",
    "                    batch_size=batch_size, \n",
    "                    epochs=num_epoch, \n",
    "                    shuffle=False,\n",
    "                    validation_data=(X_val, y_val))"
   ]
  },
  {
   "cell_type": "code",
   "execution_count": 7,
   "metadata": {},
   "outputs": [
    {
     "name": "stdout",
     "output_type": "stream",
     "text": [
      "dict_keys(['val_loss', 'val_acc', 'loss', 'acc'])\n"
     ]
    },
    {
     "data": {
      "image/png": "[encoded data removed]",
      "text/plain": [
       "<matplotlib.figure.Figure at 0x7f2088400fd0>"
      ]
     },
     "metadata": {},
     "output_type": "display_data"
    },
    {
     "data": {
      "image/png": "[encoded data removed]",
      "text/plain": [
       "<matplotlib.figure.Figure at 0x7f208840bd68>"
      ]
     },
     "metadata": {},
     "output_type": "display_data"
    }
   ],
   "source": [
    "# list all data in history\n",
    "print(history.history.keys())\n",
    "\n",
    "# summarize history for accuracy\n",
    "plt.plot(history.history['acc'])\n",
    "plt.plot(history.history['val_acc'])\n",
    "plt.title('model accuracy')\n",
    "plt.ylabel('accuracy')\n",
    "plt.xlabel('epoch')\n",
    "plt.legend(['train', 'val'], loc='upper left')\n",
    "plt.show()\n",
    "\n",
    "# summarize history for loss\n",
    "plt.plot(history.history['loss'],'o')\n",
    "plt.plot(history.history['val_loss'],'o')\n",
    "plt.title('model loss')\n",
    "plt.ylabel('loss')\n",
    "plt.xlabel('epoch')\n",
    "plt.legend(['train', 'val'], loc='upper left')\n",
    "plt.show()"
   ]
  },
  {
   "cell_type": "code",
   "execution_count": 8,
   "metadata": {},
   "outputs": [
    {
     "name": "stdout",
     "output_type": "stream",
     "text": [
      "\r",
      "100/100 [==============================] - 0s 700us/step\n"
     ]
    },
    {
     "data": {
      "text/plain": [
       "[0.8477540612220764, 0.6700000166893005]"
      ]
     },
     "execution_count": 8,
     "metadata": {},
     "output_type": "execute_result"
    }
   ],
   "source": [
    "model.evaluate(X_test,y_test,batch_size=N_test)"
   ]
  }
 ],
 "metadata": {
  "kernelspec": {
   "display_name": "Python 3",
   "language": "python",
   "name": "python3"
  },
  "language_info": {
   "codemirror_mode": {
    "name": "ipython",
    "version": 3
   },
   "file_extension": ".py",
   "mimetype": "text/x-python",
   "name": "python",
   "nbconvert_exporter": "python",
   "pygments_lexer": "ipython3",
   "version": "3.6.3"
  }
 },
 "nbformat": 4,
 "nbformat_minor": 2
}
