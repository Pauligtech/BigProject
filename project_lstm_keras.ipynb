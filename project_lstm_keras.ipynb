{
 "cells": [
  {
   "cell_type": "code",
   "execution_count": 33,
   "metadata": {},
   "outputs": [],
   "source": [
    "from keras.models import Sequential\n",
    "from keras.layers import LSTM, Dense, Dropout, TimeDistributed, BatchNormalization\n",
    "import numpy as np\n",
    "import h5py\n",
    "import matplotlib.pyplot as plt\n",
    "from data_utils import get_data\n",
    "from sklearn import preprocessing\n"
   ]
  },
  {
   "cell_type": "code",
   "execution_count": 2,
   "metadata": {
    "scrolled": true
   },
   "outputs": [
    {
     "name": "stdout",
     "output_type": "stream",
     "text": [
      "X_train: (2508, 1000, 22) \n",
      "y_train: (2508,) \n",
      "X_val: (50, 1000, 22) \n",
      "y_val: (50,) \n",
      "X_test: (0, 1000, 22) \n",
      "y_test: (0,) \n"
     ]
    }
   ],
   "source": [
    "# Load data from all .mat files, combine them, eliminate EOG signals, shuffle and \n",
    "# seperate training data, validation data and testing data.\n",
    "# Also do mean subtraction on x.\n",
    "\n",
    "data = get_data('project_datasets',num_validation=50, num_test=0, subtract_mean=True, subtract_axis=1,\n",
    "                transpose=True)\n",
    "for k in data.keys():\n",
    "    print('{}: {} '.format(k, data[k].shape))"
   ]
  },
  {
   "cell_type": "code",
   "execution_count": 60,
   "metadata": {},
   "outputs": [],
   "source": [
    "# substract data from list\n",
    "X_train = data.get('X_train')\n",
    "y_train = data.get('y_train')\n",
    "X_val = data.get('X_val')\n",
    "y_val = data.get('y_val')\n",
    "#X_test = data.get('X_test')\n",
    "#y_test = data.get('y_test')\n",
    "\n",
    "# get data dimension\n",
    "N_train, T_train, C_train = data.get('X_train').shape\n",
    "N_val, T_val, C_val = data.get('X_val').shape\n",
    "#N_test, T_test, C_test = data.get('X_test').shape\n",
    "\n",
    "# add dummy zeros for y classification\n",
    "lb = preprocessing.LabelBinarizer()\n",
    "lb.fit([0, 1, 2, 3,])\n",
    "lb.classes_\n",
    "y_train = lb.transform(y_train)\n",
    "y_val = lb.transform(y_val)\n",
    "#y_test = lb.transform(y_test)"
   ]
  },
  {
   "cell_type": "code",
   "execution_count": 61,
   "metadata": {},
   "outputs": [],
   "source": [
    "# # normalize data across the time sequence dimension only\n",
    "# scaler = preprocessing.MinMaxScaler()\n",
    "# for i in range(N_train):\n",
    "#     scaler.fit(X_train[i,:,:])\n",
    "#     X_train[i,:,:] = scaler.transform(X_train[i,:,:])\n",
    "    \n",
    "# for i in range(N_val):\n",
    "#     scaler.fit(X_val[i,:,:])\n",
    "#     X_val[i,:,:] = scaler.transform(X_val[i,:,:])"
   ]
  },
  {
   "cell_type": "code",
   "execution_count": 62,
   "metadata": {},
   "outputs": [
    {
     "name": "stdout",
     "output_type": "stream",
     "text": [
      "X_train:  (2508, 250, 22)\n",
      "X_val:  (50, 250, 22)\n"
     ]
    }
   ],
   "source": [
    "# construct X_total and y_total based on sub-sampling of X_train and y_train\n",
    "\n",
    "# take sub-sampling on the time sequence to reduce dimension for RNN\n",
    "sampling = 4\n",
    "\n",
    "X_train = X_train.reshape(N_train,int(T_train/sampling), sampling, C_train)[:,:,0,:]\n",
    "X_val = X_val.reshape(N_val,int(T_val/sampling), sampling, C_val)[:,:,0,:]\n",
    "    \n",
    "# get new data dimension\n",
    "N_train, T_train, C_train = X_train.shape\n",
    "N_val, T_val, C_val = X_val.shape\n",
    "\n",
    "print('X_train: ', X_train.shape)\n",
    "print('X_val: ', X_val.shape)"
   ]
  },
  {
   "cell_type": "code",
   "execution_count": 68,
   "metadata": {},
   "outputs": [],
   "source": [
    "# Expected input batch shape: (batch_size, timesteps, data_dim)\n",
    "# Note that we have to provide the full batch_input_shape since the network is stateful.\n",
    "# the sample of index i in batch k is the follow-up for the sample i in batch k-1.\n",
    "\n",
    "# perhaps should try masking layer\n",
    "\n",
    "data_dim = C_train\n",
    "timesteps = T_train\n",
    "num_classes = 4\n",
    "batch_size = 50\n",
    "num_epoch = 30\n",
    "\n",
    "model = Sequential()\n",
    "model.add(LSTM(40, return_sequences=True, stateful=False,\n",
    "          batch_input_shape=(batch_size, timesteps, data_dim)))\n",
    "model.add(Dropout(0.5))\n",
    "model.add(BatchNormalization())\n",
    "model.add(LSTM(40, return_sequences=True, stateful=False))\n",
    "model.add(Dropout(0.5))\n",
    "model.add(BatchNormalization())\n",
    "model.add(LSTM(40, stateful=False))\n",
    "model.add(Dropout(0.5))\n",
    "# model.add(TimeDistributed(Dense(T_train)))\n",
    "model.add(Dense(50,activation='softmax'))\n",
    "model.add(Dense(num_classes, activation='softmax'))\n",
    "\n",
    "model.compile(loss='categorical_crossentropy',\n",
    "              optimizer='adam',\n",
    "              metrics=['accuracy'])"
   ]
  },
  {
   "cell_type": "code",
   "execution_count": 69,
   "metadata": {},
   "outputs": [
    {
     "name": "stdout",
     "output_type": "stream",
     "text": [
      "Train on 2500 samples, validate on 50 samples\n",
      "Epoch 1/30\n",
      "2500/2500 [==============================] - 20s 8ms/step - loss: 1.3863 - acc: 0.2576 - val_loss: 1.3869 - val_acc: 0.2000\n",
      "Epoch 2/30\n",
      "2500/2500 [==============================] - 16s 6ms/step - loss: 1.3856 - acc: 0.2528 - val_loss: 1.3884 - val_acc: 0.1800\n",
      "Epoch 3/30\n",
      "2500/2500 [==============================] - 16s 7ms/step - loss: 1.3845 - acc: 0.2848 - val_loss: 1.3875 - val_acc: 0.2200\n",
      "Epoch 4/30\n",
      "2500/2500 [==============================] - 16s 6ms/step - loss: 1.3815 - acc: 0.3092 - val_loss: 1.3876 - val_acc: 0.2600\n",
      "Epoch 5/30\n",
      "2500/2500 [==============================] - 16s 7ms/step - loss: 1.3782 - acc: 0.3064 - val_loss: 1.3881 - val_acc: 0.2600\n",
      "Epoch 6/30\n",
      "2500/2500 [==============================] - 16s 6ms/step - loss: 1.3727 - acc: 0.3212 - val_loss: 1.3871 - val_acc: 0.3200\n",
      "Epoch 7/30\n",
      "2500/2500 [==============================] - 19s 7ms/step - loss: 1.3672 - acc: 0.3360 - val_loss: 1.3878 - val_acc: 0.2400\n",
      "Epoch 8/30\n",
      "2500/2500 [==============================] - 19s 8ms/step - loss: 1.3607 - acc: 0.3392 - val_loss: 1.4135 - val_acc: 0.2800\n",
      "Epoch 9/30\n",
      "2500/2500 [==============================] - 19s 8ms/step - loss: 1.3601 - acc: 0.3332 - val_loss: 1.4029 - val_acc: 0.2600\n",
      "Epoch 10/30\n",
      "2500/2500 [==============================] - 19s 7ms/step - loss: 1.3545 - acc: 0.3436 - val_loss: 1.4079 - val_acc: 0.2600\n",
      "Epoch 11/30\n",
      "2500/2500 [==============================] - 17s 7ms/step - loss: 1.3484 - acc: 0.3512 - val_loss: 1.3931 - val_acc: 0.3800\n",
      "Epoch 12/30\n",
      "2500/2500 [==============================] - 17s 7ms/step - loss: 1.3420 - acc: 0.3656 - val_loss: 1.3860 - val_acc: 0.3000\n",
      "Epoch 13/30\n",
      "2500/2500 [==============================] - 16s 7ms/step - loss: 1.3310 - acc: 0.3708 - val_loss: 1.3712 - val_acc: 0.3400\n",
      "Epoch 14/30\n",
      "2500/2500 [==============================] - 16s 7ms/step - loss: 1.3278 - acc: 0.3816 - val_loss: 1.4131 - val_acc: 0.2600\n",
      "Epoch 15/30\n",
      "2500/2500 [==============================] - 16s 7ms/step - loss: 1.3226 - acc: 0.3756 - val_loss: 1.4146 - val_acc: 0.2600\n",
      "Epoch 16/30\n",
      "2500/2500 [==============================] - 19s 7ms/step - loss: 1.3232 - acc: 0.3796 - val_loss: 1.4168 - val_acc: 0.2200\n",
      "Epoch 17/30\n",
      "2500/2500 [==============================] - 19s 8ms/step - loss: 1.3151 - acc: 0.3892 - val_loss: 1.3943 - val_acc: 0.2800\n",
      "Epoch 18/30\n",
      "2500/2500 [==============================] - 19s 8ms/step - loss: 1.3107 - acc: 0.3952 - val_loss: 1.4206 - val_acc: 0.2200\n",
      "Epoch 19/30\n",
      "2500/2500 [==============================] - 19s 8ms/step - loss: 1.3081 - acc: 0.4076 - val_loss: 1.4247 - val_acc: 0.2600\n",
      "Epoch 20/30\n",
      "2500/2500 [==============================] - 19s 7ms/step - loss: 1.3154 - acc: 0.3912 - val_loss: 1.3850 - val_acc: 0.4000\n",
      "Epoch 21/30\n",
      "2500/2500 [==============================] - 16s 7ms/step - loss: 1.2928 - acc: 0.4056 - val_loss: 1.4195 - val_acc: 0.2800\n",
      "Epoch 22/30\n",
      "2500/2500 [==============================] - 17s 7ms/step - loss: 1.2809 - acc: 0.4252 - val_loss: 1.5148 - val_acc: 0.2000\n",
      "Epoch 23/30\n",
      "2500/2500 [==============================] - 17s 7ms/step - loss: 1.2821 - acc: 0.4232 - val_loss: 1.4257 - val_acc: 0.3000\n",
      "Epoch 24/30\n",
      "2500/2500 [==============================] - 17s 7ms/step - loss: 1.2784 - acc: 0.4420 - val_loss: 1.5354 - val_acc: 0.2200\n",
      "Epoch 25/30\n",
      "2500/2500 [==============================] - 16s 6ms/step - loss: 1.2767 - acc: 0.4196 - val_loss: 1.4633 - val_acc: 0.3000\n",
      "Epoch 26/30\n",
      "2500/2500 [==============================] - 16s 7ms/step - loss: 1.2707 - acc: 0.4308 - val_loss: 1.3918 - val_acc: 0.3600\n",
      "Epoch 27/30\n",
      "2500/2500 [==============================] - 16s 7ms/step - loss: 1.2656 - acc: 0.4372 - val_loss: 1.4298 - val_acc: 0.3200\n",
      "Epoch 28/30\n",
      "2500/2500 [==============================] - 17s 7ms/step - loss: 1.2596 - acc: 0.4416 - val_loss: 1.4263 - val_acc: 0.3600\n",
      "Epoch 29/30\n",
      "2500/2500 [==============================] - 16s 7ms/step - loss: 1.2592 - acc: 0.4448 - val_loss: 1.5231 - val_acc: 0.2000\n",
      "Epoch 30/30\n",
      "2500/2500 [==============================] - 17s 7ms/step - loss: 1.2468 - acc: 0.4492 - val_loss: 1.5091 - val_acc: 0.2800\n"
     ]
    }
   ],
   "source": [
    "# train the data with validation\n",
    "history = model.fit(X_train[0:int(N_train/batch_size)*batch_size, :, :],\n",
    "                    y_train[0:int(N_train/batch_size)*batch_size, :],\n",
    "                    batch_size=batch_size, epochs=num_epoch, shuffle=False,\n",
    "                    validation_data=(X_val, y_val))"
   ]
  },
  {
   "cell_type": "code",
   "execution_count": 40,
   "metadata": {},
   "outputs": [
    {
     "name": "stdout",
     "output_type": "stream",
     "text": [
      "dict_keys(['val_loss', 'val_acc', 'loss', 'acc'])\n"
     ]
    },
    {
     "data": {
      "image/png": "[encoded data removed]",
      "text/plain": [
       "<matplotlib.figure.Figure at 0x7fe5990fe5c0>"
      ]
     },
     "metadata": {},
     "output_type": "display_data"
    },
    {
     "data": {
      "image/png": "[encoded data removed]",
      "text/plain": [
       "<matplotlib.figure.Figure at 0x7fe59916fb00>"
      ]
     },
     "metadata": {},
     "output_type": "display_data"
    }
   ],
   "source": [
    "# list all data in history\n",
    "print(history.history.keys())\n",
    "\n",
    "# summarize history for accuracy\n",
    "plt.plot(history.history['acc'])\n",
    "plt.plot(history.history['val_acc'])\n",
    "plt.title('model accuracy')\n",
    "plt.ylabel('accuracy')\n",
    "plt.xlabel('epoch')\n",
    "plt.legend(['train', 'val'], loc='upper left')\n",
    "plt.show()\n",
    "\n",
    "# summarize history for loss\n",
    "plt.plot(history.history['loss'],'o')\n",
    "plt.plot(history.history['val_loss'],'o')\n",
    "plt.title('model loss')\n",
    "plt.ylabel('loss')\n",
    "plt.xlabel('epoch')\n",
    "plt.legend(['train', 'val'], loc='upper left')\n",
    "plt.show()"
   ]
  },
  {
   "cell_type": "code",
   "execution_count": null,
   "metadata": {},
   "outputs": [],
   "source": []
  }
 ],
 "metadata": {
  "kernelspec": {
   "display_name": "Python 3",
   "language": "python",
   "name": "python3"
  },
  "language_info": {
   "codemirror_mode": {
    "name": "ipython",
    "version": 3
   },
   "file_extension": ".py",
   "mimetype": "text/x-python",
   "name": "python",
   "nbconvert_exporter": "python",
   "pygments_lexer": "ipython3",
   "version": "3.6.3"
  }
 },
 "nbformat": 4,
 "nbformat_minor": 2
}
